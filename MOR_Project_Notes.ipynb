{
 "cells": [
  {
   "cell_type": "markdown",
   "id": "2cda2d09",
   "metadata": {
    "tags": []
   },
   "source": [
    "# 01 - Humanized MOR model 10ns unbiased MD run data analysis"
   ]
  },
  {
   "cell_type": "markdown",
   "id": "cd0f6882",
   "metadata": {},
   "source": [
    "The goal of this project is to discover features of the $\\mu$ opioid receptor and the ligands that bind to it that lead to specific types of agonism, such as biased agonism, partial agonism, or superagonism. "
   ]
  },
  {
   "cell_type": "markdown",
   "id": "d4c9a43b",
   "metadata": {
    "tags": []
   },
   "source": [
    "We will start by loading the modules we will need to analyze our trajectory data, and collecting some of the files we will need throughout this notebook.\n",
    "\n",
    "$$ \\mathbf{F}=m\\mathbf{\\ddot{x}} $$\n",
    "\n",
    "$$ \\int_{0}^{\\infty}f(\\mathbf{x})\\mathrm{d}x $$\n"
   ]
  },
  {
   "cell_type": "code",
   "execution_count": 1,
   "id": "4889f9d1",
   "metadata": {
    "tags": []
   },
   "outputs": [
    {
     "data": {
      "application/vnd.jupyter.widget-view+json": {
       "model_id": "db144b63d3404345a7b31091b45411aa",
       "version_major": 2,
       "version_minor": 0
      },
      "text/plain": []
     },
     "metadata": {},
     "output_type": "display_data"
    },
    {
     "name": "stdout",
     "output_type": "stream",
     "text": [
      "Structure exists: './pdb5c1m.ent' \n",
      "Structure exists: './pdb6dde.ent' \n",
      "Structure exists: './pdb6ddf.ent' \n",
      "Structure exists: './pdb4dkl.ent' \n"
     ]
    }
   ],
   "source": [
    "%matplotlib inline\n",
    "import matplotlib.pyplot as plt\n",
    "import numpy as np\n",
    "import mdshare\n",
    "import pyemma\n",
    "import pickle\n",
    "from Bio.PDB import *\n",
    "from Bio.PDB.MMCIFParser import MMCIFParser\n",
    "parser = MMCIFParser()\n",
    "import nglview\n",
    "import mdtraj\n",
    "import ipywidgets\n",
    "from threading import Timer\n",
    "from nglview.player import TrajectoryPlayer\n",
    "pdbl = PDBList()\n",
    "pdbl.retrieve_pdb_file('5C1M', pdir = '.', file_format = 'pdb')\n",
    "parser = PDBParser(PERMISSIVE = True, QUIET = True) \n",
    "data = parser.get_structure(\"5c1m\",\"pdb5c1m.ent\")\n",
    "pdbl.retrieve_pdb_file('6DDE', pdir = '.', file_format = 'pdb')\n",
    "data1 = parser.get_structure(\"6dde\",\"pdb6dde.ent\")\n",
    "pdbl.retrieve_pdb_file('6DDF', pdir = '.', file_format = 'pdb')\n",
    "data2 = parser.get_structure(\"6ddf\",\"pdb6ddf.ent\")\n",
    "pdbl.retrieve_pdb_file('4DKL', pdir = '.', file_format = 'pdb')\n",
    "data3 = parser.get_structure(\"4dkl\",\"pdb4dkl.ent\")"
   ]
  },
  {
   "cell_type": "code",
   "execution_count": 2,
   "id": "6989a4a1",
   "metadata": {
    "tags": []
   },
   "outputs": [],
   "source": [
    "from IPython.display import display\n",
    "def Fasta(seqdata=''):\n",
    "    bundle = {}\n",
    "    bundle['application/vnd.fasta.fasta'] = seqdata\n",
    "    bundle['text/plain'] = seqdata\n",
    "    display(bundle, raw=True)\n"
   ]
  },
  {
   "cell_type": "code",
   "execution_count": 3,
   "id": "166bb164",
   "metadata": {},
   "outputs": [
    {
     "data": {
      "application/vnd.fasta.fasta": ">P35372\n------------------------------------------------------------\n---------------------------------MDSSAAPTNASNCTDALAYSSCSPAPS\nPGSWVNLSHLDGNLSDPCGPNRTDLGGRDSLCPPTGSPSMITAITIMALYSIVCVVGLFG\nNFLVMYVIVRYTKMKTATNIYIFNLALADALAT----STLPFQSVNYLMGTWPFGTILCK\nIVISIDYYNMFTSIFTLCTMSVDRYIAVCHPVKALDFRTPRNAKIINVCNWILSSAIGLP\nVMFMATTKYRQGSIDCTLTF--SHPTWYWENLLKICVFIFAFIMPVLIITVCYGLMILRL\nKSVRMLSGSKEKDRNLRRITRMVLVVVAVFIVCWTPIHIYVIIKALVTIPETTFQTVSWH\nFCIALGYTNSCLNPVLYAFLDENFKRCFREFCIPTSSNIEQQNSTRIRQNTRDHPSTANT\nVDRTNHQLENLEAETAPLP-----------------------------------------\n--------\n>P35372-2\n------------------------------------------------------------\n---------------------------------MDSSAAPTNASNCTDALAYSSCSPAPS\nPGSWVNLSHLDGNLSDPCGPNRTDLGGRDSLCPPTGSPSMITAITIMALYSIVCVVGLFG\nNFLVMYVIVRYTKMKTATNIYIFNLALADALAT----STLPFQSVNYLMGTWPFGTILCK\nIVISIDYYNMFTSIFTLCTMSVDRYIAVCHPVKALDFRTPRNAKIINVCNWILSSAIGLP\nVMFMATTKYRQGSIDCTLTF--SHPTWYWENLLKICVFIFAFIMPVLIITVCYGLMILRL\nKSVRMLSGSKEKDRNLRRITRMVLVVVAVFIVCWTPIHIYVIIKALVTIPETTFQTVSWH\nFCIALGYTNSCLNPVLYAFLDENFKRCFREFCIPTSSNIEQQNSTRIRQNTRDHPSTANT\nVDRTNHQVRSL-------------------------------------------------\n--------\n>P35372-3\n------------------------------------------------------------\n---------------------------------MDSSAAPTNASNCTDALAYSSCSPAPS\nPGSWVNLSHLDGNLSDPCGPNRTDLGGRDSLCPPTGSPSMITAITIMALYSIVCVVGLFG\nNFLVMYVIVRYTKMKTATNIYIFNLALADALAT----STLPFQSVNYLMGTWPFGTILCK\nIVISIDYYNMFTSIFTLCTMSVDRYIAVCHPVKALDFRTPRNAKIINVCNWILSSAIGLP\nVMFMATTKYRQGSIDCTLTF--SHPTWYWENLLKICVFIFAFIMPVLIITVCYGLMILRL\nKSVRMLSGSKEKDRNLRRITRMVLVVVAVFIVCWTPIHIYVIIKALVTIPETTFQTVSWH\nFCIALGYTNSCLNPVLYAFLDENFKRCFREFCIPTSSNIEQQNSTRIRQNTRDHPSTANT\nVDRTNHQCLPIPSL-SCWALEQGCLVVYPGPL--QGPLVRYDLPAILHSSCLRGNTAPSP\nSGGAFLLS\n>P35372-4\n------------------------------------------------------------\n---------------------------------MDSSAAPTNASNCTDALAYSSCSPAPS\nPGSWVNLSHLDGNLSDPCGPNRTDLGGRDSLCPPTGSPSMITAITIMALYSIVCVVGLFG\nNFLVMYVIVRYTKMKTATNIYIFNLALADALAT----STLPFQSVNYLMGTWPFGTILCK\nIVISIDYYNMFTSIFTLCTMSVDRYIAVCHPVKALDFRTPRNAKIINVCNWILSSAIGLP\nVMFMATTKYRQGSIDCTLTF--SHPTWYWENLLKICVFIFAFIMPVLIITVCYGLMILRL\nKSVRMLSGSKEKDRNLRRITRMVLVVVAVFIVCWTPIHIYVIIKALVTIPETTFQTVSWH\nFCIALGYTNSCLNPVLYAFLDENFKRCFREFCIPTSSNIEQQNSTRIRQNTRDHPSTANT\nVDRTNHQGPPAKFV-ADQLAGSS-------------------------------------\n--------\n>P35372-5\n------------------------------------------------------------\n---------------------------------MDSSAAPTNASNCTDALAYSSCSPAPS\nPGSWVNLSHLDGNLSDPCGPNRTDLGGRDSLCPPTGSPSMITAITIMALYSIVCVVGLFG\nNFLVMYVIVRYTKMKTATNIYIFNLALADALAT----STLPFQSVNYLMGTWPFGTILCK\nIVISIDYYNMFTSIFTLCTMSVDRYIAVCHPVKALDFRTPRNAKIINVCNWILSSAIGLP\nVMFMATTKYRQGSIDCTLTF--SHPTWYWENLLKICVFIFAFIMPVLIITVCYGLMILRL\nKSVRMLSGSKEKDRNLRRITRMVLVVVAVFIVCWTPIHIYVIIKALVTIPETTFQTVSWH\nFCIALGYTNSCLNPVLYAFLDENFKRCFREFCIPTSSNIEQQNSTRIRQNTRDHPSTANT\nVDRTNHQPPLAVSM-AQI------FTRYPPPT--HREK-----------TCNDYMKR---\n--------\n>P35372-6\n------------------------------------------------------------\n---------------------------------MDSSAAPTNASNCTDALAYSSCSPAPS\nPGSWVNLSHLDGNLSDPCGPNRTDLGGRDSLCPPTGSPSMITAITIMALYSIVCVVGLFG\nNFLVMYVIVRYTKMKTATNIYIFNLALADALAT----STLPFQSVNYLMGTWPFGTILCK\nIVISIDYYNMFTSIFTLCTMSVDRYIAVCHPVKALDFRTPRNAKIINVCNWILSSAIGLP\nVMFMATTKYRQGSIDCTLTF--SHPTWYWENLLKICVFIFAFIMPVLIITVCYGLMILRL\nKSVRMLSGSKEKDRNLRRITRMVLVVVAVFIVCWTPIHIYVIIKALVTIPETTFQTVSWH\nFCIALGYTNSCLNPVLYAFLDENFKRCFREFCIPTSSNIEQQNSTRIRQNTRDHPSTANT\nVDRTNHQIRDPISNLPRVSVF---------------------------------------\n--------\n>P35372-7\n------------------------------------------------------------\n---------------------------------MDSSAAPTNASNCTDALAYSSCSPAPS\nPGSWVNLSHLDGNLSDPCGPNRTDLGGRDSLCPPTGSPSMITAITIMALYSIVCVVGLFG\nNFLVMYVIVRYTKMKTATNIYIFNLALADALAT----STLPFQSVNYLMGTWPFGTILCK\nIVISIDYYNMFTSIFTLCTMSVDRYIAVCHPVKALDFRTPRNAKIINVCNWILSSAIGLP\nVMFMATTKYRQGSIDCTLTF--SHPTWYWENLLKICVFIFAFIMPVLIITVCYGLMILRL\nKSVRMLSGSKEKDRNLRRITRMVLVVVAVFIVCWTPIHIYVIIKALVTIPETTFQTVSWH\nFCIALGYTNSCLNPVLYAFLDENFKRCFREFCIPTSSNIEQQNSTRIRQNTRDHPSTANT\nVDRTNHQKIDLFQKSSLLNCEH---------T--KG------------------------\n--------\n>P35372-8\n------------------------------------------------------------\n---------------------------------MDSSAAPTNASNCTDALAYSSCSPAPS\nPGSWVNLSHLDGNLSDPCGPNRTDLGGRDSLCPPTGSPSMITAITIMALYSIVCVVGLFG\nNFLVMYVIVRYTKMKTATNIYIFNLALADALAT----STLPFQSVNYLMGTWPFGTILCK\nIVISIDYYNMFTSIFTLCTMSVDRYIAVCHPVKALDFRTPRNAKIINVCNWILSSAIGLP\nVMFMATTKYRQGSIDCTLTF--SHPTWYWENLLKICVFIFAFIMPVLIITVCYGLMILRL\nKSVRMLSGSKEKDRNLRRITRMVLVVVAVFIVCWTPIHIYVIIKALVTIPETTFQTVSWH\nFCIALGYTNSCLNPVLYAFLDENFKRCFREFCIPTSSNIEQQNSTRIRQNTRDHPSTANT\nVDRTNHQRERRQK--SDW------------------------------------------\n--------\n>P35372-9\n------------------------------------------------------------\n---------------------------------MDSSAAPTNASNCTDALAYSSCSPAPS\nPGSWVNLSHLDGNLSDPCGPNRTDLGGRDSLCPPTGSPSMITAITIMALYSIVCVVGLFG\nNFLVMYVIVRYTKMKTATNIYIFNLALADALAT----STLPFQSVNYLMGTWPFGTILCK\nIVISIDYYNMFTSIFTLCTMSVDRYIAVCHPVKALDFRTPRNAKIINVCNWILSSAIGLP\nVMFMATTKYRQGSIDCTLTF--SHPTWYWENLLKICVFIFAFIMPVLIITVCYGLMILRL\nKSVRMLSGSKEKDRNLRRITRMVLVVVAVFIVCWTPIHIYVIIKALVTIPETTFQTVSWH\nFCIALGYTNSCLNPVLYAFLDENFKRCFREFCIPTSSNIEQQNSTRIRQNTRDHPSTANT\nVDRTNHQVELNLDC--------HCENAKPWPLSYNAGQSPFPFPGRV-------------\n--------\n>P35372-10\nMCLHRRVPSEETYSLDRFAQNPPLFPPPSLPASESRMAHAPLLQRCGAARTGFCKKQQEL\nWQRRKEAAEALGTRKVSVLLATSHSGARPAVSTMDSSAAPTNASNCTDALAYSSCSPAPS\nPGSWVNLSHLDGNLSDPCGPNRTDLGGRDSLCPPTGSPSMITAITIMALYSIVCVVGLFG\nNFLVMYVIVRYTKMKTATNIYIFNLALADALAT----STLPFQSVNYLMGTWPFGTILCK\nIVISIDYYNMFTSIFTLCTMSVDRYIAVCHPVKALDFRTPRNAKIINVCNWILSSAIGLP\nVMFMATTKYRQGSIDCTLTF--SHPTWYWENLLKICVFIFAFIMPVLIITVCYGLMILRL\nKSVRMLSGSKEKDRNLRRITRMVLVVVAVFIVCWTPIHIYVIIKALVTIPETTFQTVSWH\nFCIALGYTNSCLNPVLYAFLDENFKRCFREFCIPTSSNIEQQNSTRIRQNTRDHPSTANT\nVDRTNHQLENLEAETAPLP-----------------------------------------\n--------\n>P35372-11\n------------------------------------------------------------\n---------------------------------MDSSAAPTNASNCTDALAYSSCSPAPS\nPGSWVNLSHLDGNLSDPCGPNRTDLGGRDSLCPPTGSPSMITAITIMALYSIVCVVGLFG\nNFLVMYVIVRYTKMKTATNIYIFNLALADALAT----STLPFQSVNYLMGTWPFGTILCK\nIVISIDYYNMFTSIFTLCTMSVDRYIAVCHPVKALDFRTPRNAKIINVCNWILSSAIGLP\nVMFMATTKYRQGSIDCTLTF--SHPTWYWENLLKICVFIFAFIMPVLIITVCYGLMILRL\nKSVRMLSGSKEKDRNLRRITRMVLVVVAVFIVCWTPIHIYVIIKALVTIPETTFQTVSWH\nFCIALGYTNSCLNPVLYAFLDENFKRCFREFCIPTSSNIEQQNSTRIRQNTRDHPSTANT\nVDRTNHQS----------------------------------------------------\n--------\n>P35372-12\n------------------------------------------------------------\n------------------------------------------------------------\n------------------------------------------------------------\n-------------MKTATNIYIFNLALADALAT----STLPFQSVNYLMGTWPFGTILCK\nIVISIDYYNMFTSIFTLCTMSVDRYIAVCHPVKALDFRTPRNAKIINVCNWILSSAIGLP\nVMFMATTKYRQGSIDCTLTF--SHPTWYWENLLKICVFIFAFIMPVLIITVCYGLMILRL\nKSVRMLSGSKEKDRNLRRITRMVLVVVAVFIVCWTPIHIYVIIKALVTIPETTFQTVSWH\nFCIALGYTNSCLNPVLYAFLDENFKRCFREFCIPTSSNIEQQNSTRIRQNTRDHPSTANT\nVDRTNHQLENLEAETAPLP-----------------------------------------\n--------\n>P35372-13\n------------------------------------------------------------\n------------------------------------------------------------\n---------------------------------------------MMRAKSIS-------\n--TKAGKPSRYTKMKTATNIYIFNLALADALAT----STLPFQSVNYLMGTWPFGTILCK\nIVISIDYYNMFTSIFTLCTMSVDRYIAVCHPVKALDFRTPRNAKIINVCNWILSSAIGLP\nVMFMATTKYRQGSIDCTLTF--SHPTWYWENLLKICVFIFAFIMPVLIITVCYGLMILRL\nKSVRMLSGSKEKDRNLRRITRMVLVVVAVFIVCWTPIHIYVIIKALVTIPETTFQTVSWH\nFCIALGYTNSCLNPVLYAFLDENFKRCFREFCIPTSSNIEQQNSTRIRQNTRDHPSTANT\nVDRTNHQLENLEAETAPLP-----------------------------------------\n--------\n>P35372-14\n------------------------------------------------------------\n------------------------------------------------------------\n------------------------------------------------------------\n-------------MKTATNIYIFNLALADALAT----STLPFQSVNYLMGTWPFGTILCK\nIVISIDYYNMFTSIFTLCTMSVDRYIAVCHPVKALDFRTPRNAKIINVCNWILSSAIGLP\nVMFMATTKYRQGSIDCTLTF--SHPTWYWENLLKICVFIFAFIMPVLIITVCYGLMILRL\nKSVRMLSGSKEKDRNLRRITRMVLVVVAVFIVCWTPIHIYVIIKALVTIPETTFQTVSWH\nFCIALGYTNSCLNPVLYAFLDENFKRCFREFCIPTSSNIEQQNSTRIRQNTRDHPSTANT\nVDRTNHQNYYIIHRCCCNT-----------PLISQKPVLLWFCD----------------\n--------\n>P35372-15\n------------------------------------------------------------\n------------------------------------------------------------\n------------------------------------------------------------\n-------------MKTATNIYIFNLALADALAT----STLPFQSVNYLMGTWPFGTILCK\nIVISIDYYNMFTSIFTLCTMSVDRYIAVCHPVKALDFRTPRNAKIINVCNWILSSAIGLP\nVMFMATTKYRQGSIDCTLTF--SHPTWYWENLLKICVFIFAFIMPVLIITVCYGLMILRL\nKSVRMLSGSKEKDRNLRRITRMVLVVVAVFIVCWTPIHIYVIIKALVTIPETTFQTVSWH\nFCIALGYTNSCLNPVLYAFLDENFKRCFREFCIPTSSNIEQQNSTRIRQNTRDHPSTANT\nVDRTNHQVRSL-------------------------------------------------\n--------\n>P35372-16\n------------------------------------------------------------\n---------------------------------MDSSAAPTNASNCTDALAYSSCSPAPS\nPGSWVNLSHLDGNLSDPCGPNRTDLGGRDSLCPPTGSPSMITAITIMALYSIVCVVGLFG\nNFLVMYVIVRYSWFVIG-----------GPEGRRKQ------------RRL-GEDKR---\n-------------------------A----------------------------------\n--------RGCGEKG---------------------------------------------\n------------------------------------------------------------\n------------------------------------------------------------\n------------------------------------------------------------\n--------\n>P35372-17\n------------------------------------------------------------\n---------------------------------MDSSAAPTNASNCTDALAYSSCSPAPS\nPGSWVNLSHLDGNLSDPCGPNRTDLGGRDSLCPPTGSPSMITAITIMALYSIVCVVGLFG\nNFLVMYVIVSSSWF----------------------------------------------\n------------------------------------------------------------\n------------------------------------------------------------\n------------------------------------------------------------\n------------------------------------------------------------\n------------------------------------------------------------\n--------\n>P35372-18\n------------------------------------------------------------\n---------------------------------MDSSAAPTNASNCTDALAYSSCSPAPS\nPGSWVNLSHLDGNLSDPCGPNRTDLGGRDSLCPPTGSPSMITAITIMALYSIVCVVGLFG\nNFLVMYVIVRFHRLYTNI--LSSNLVLGKPAEDLCFHLRLHYASAHHYRVLWTDDLA---\n-------------------------PQECP-----------------HALWLQRKGQESS\nK----DHQDGAGGGGCVHRLLDSHSHLRHH------------------------------\n------------------------------------------------------------\n------------------------------------------------------------\n------------------------------------------------------------\n--------\n",
      "text/plain": [
       ">P35372\n",
       "------------------------------------------------------------\n",
       "---------------------------------MDSSAAPTNASNCTDALAYSSCSPAPS\n",
       "PGSWVNLSHLDGNLSDPCGPNRTDLGGRDSLCPPTGSPSMITAITIMALYSIVCVVGLFG\n",
       "NFLVMYVIVRYTKMKTATNIYIFNLALADALAT----STLPFQSVNYLMGTWPFGTILCK\n",
       "IVISIDYYNMFTSIFTLCTMSVDRYIAVCHPVKALDFRTPRNAKIINVCNWILSSAIGLP\n",
       "VMFMATTKYRQGSIDCTLTF--SHPTWYWENLLKICVFIFAFIMPVLIITVCYGLMILRL\n",
       "KSVRMLSGSKEKDRNLRRITRMVLVVVAVFIVCWTPIHIYVIIKALVTIPETTFQTVSWH\n",
       "FCIALGYTNSCLNPVLYAFLDENFKRCFREFCIPTSSNIEQQNSTRIRQNTRDHPSTANT\n",
       "VDRTNHQLENLEAETAPLP-----------------------------------------\n",
       "--------\n",
       ">P35372-2\n",
       "------------------------------------------------------------\n",
       "---------------------------------MDSSAAPTNASNCTDALAYSSCSPAPS\n",
       "PGSWVNLSHLDGNLSDPCGPNRTDLGGRDSLCPPTGSPSMITAITIMALYSIVCVVGLFG\n",
       "NFLVMYVIVRYTKMKTATNIYIFNLALADALAT----STLPFQSVNYLMGTWPFGTILCK\n",
       "IVISIDYYNMFTSIFTLCTMSVDRYIAVCHPVKALDFRTPRNAKIINVCNWILSSAIGLP\n",
       "VMFMATTKYRQGSIDCTLTF--SHPTWYWENLLKICVFIFAFIMPVLIITVCYGLMILRL\n",
       "KSVRMLSGSKEKDRNLRRITRMVLVVVAVFIVCWTPIHIYVIIKALVTIPETTFQTVSWH\n",
       "FCIALGYTNSCLNPVLYAFLDENFKRCFREFCIPTSSNIEQQNSTRIRQNTRDHPSTANT\n",
       "VDRTNHQVRSL-------------------------------------------------\n",
       "--------\n",
       ">P35372-3\n",
       "------------------------------------------------------------\n",
       "---------------------------------MDSSAAPTNASNCTDALAYSSCSPAPS\n",
       "PGSWVNLSHLDGNLSDPCGPNRTDLGGRDSLCPPTGSPSMITAITIMALYSIVCVVGLFG\n",
       "NFLVMYVIVRYTKMKTATNIYIFNLALADALAT----STLPFQSVNYLMGTWPFGTILCK\n",
       "IVISIDYYNMFTSIFTLCTMSVDRYIAVCHPVKALDFRTPRNAKIINVCNWILSSAIGLP\n",
       "VMFMATTKYRQGSIDCTLTF--SHPTWYWENLLKICVFIFAFIMPVLIITVCYGLMILRL\n",
       "KSVRMLSGSKEKDRNLRRITRMVLVVVAVFIVCWTPIHIYVIIKALVTIPETTFQTVSWH\n",
       "FCIALGYTNSCLNPVLYAFLDENFKRCFREFCIPTSSNIEQQNSTRIRQNTRDHPSTANT\n",
       "VDRTNHQCLPIPSL-SCWALEQGCLVVYPGPL--QGPLVRYDLPAILHSSCLRGNTAPSP\n",
       "SGGAFLLS\n",
       ">P35372-4\n",
       "------------------------------------------------------------\n",
       "---------------------------------MDSSAAPTNASNCTDALAYSSCSPAPS\n",
       "PGSWVNLSHLDGNLSDPCGPNRTDLGGRDSLCPPTGSPSMITAITIMALYSIVCVVGLFG\n",
       "NFLVMYVIVRYTKMKTATNIYIFNLALADALAT----STLPFQSVNYLMGTWPFGTILCK\n",
       "IVISIDYYNMFTSIFTLCTMSVDRYIAVCHPVKALDFRTPRNAKIINVCNWILSSAIGLP\n",
       "VMFMATTKYRQGSIDCTLTF--SHPTWYWENLLKICVFIFAFIMPVLIITVCYGLMILRL\n",
       "KSVRMLSGSKEKDRNLRRITRMVLVVVAVFIVCWTPIHIYVIIKALVTIPETTFQTVSWH\n",
       "FCIALGYTNSCLNPVLYAFLDENFKRCFREFCIPTSSNIEQQNSTRIRQNTRDHPSTANT\n",
       "VDRTNHQGPPAKFV-ADQLAGSS-------------------------------------\n",
       "--------\n",
       ">P35372-5\n",
       "------------------------------------------------------------\n",
       "---------------------------------MDSSAAPTNASNCTDALAYSSCSPAPS\n",
       "PGSWVNLSHLDGNLSDPCGPNRTDLGGRDSLCPPTGSPSMITAITIMALYSIVCVVGLFG\n",
       "NFLVMYVIVRYTKMKTATNIYIFNLALADALAT----STLPFQSVNYLMGTWPFGTILCK\n",
       "IVISIDYYNMFTSIFTLCTMSVDRYIAVCHPVKALDFRTPRNAKIINVCNWILSSAIGLP\n",
       "VMFMATTKYRQGSIDCTLTF--SHPTWYWENLLKICVFIFAFIMPVLIITVCYGLMILRL\n",
       "KSVRMLSGSKEKDRNLRRITRMVLVVVAVFIVCWTPIHIYVIIKALVTIPETTFQTVSWH\n",
       "FCIALGYTNSCLNPVLYAFLDENFKRCFREFCIPTSSNIEQQNSTRIRQNTRDHPSTANT\n",
       "VDRTNHQPPLAVSM-AQI------FTRYPPPT--HREK-----------TCNDYMKR---\n",
       "--------\n",
       ">P35372-6\n",
       "------------------------------------------------------------\n",
       "---------------------------------MDSSAAPTNASNCTDALAYSSCSPAPS\n",
       "PGSWVNLSHLDGNLSDPCGPNRTDLGGRDSLCPPTGSPSMITAITIMALYSIVCVVGLFG\n",
       "NFLVMYVIVRYTKMKTATNIYIFNLALADALAT----STLPFQSVNYLMGTWPFGTILCK\n",
       "IVISIDYYNMFTSIFTLCTMSVDRYIAVCHPVKALDFRTPRNAKIINVCNWILSSAIGLP\n",
       "VMFMATTKYRQGSIDCTLTF--SHPTWYWENLLKICVFIFAFIMPVLIITVCYGLMILRL\n",
       "KSVRMLSGSKEKDRNLRRITRMVLVVVAVFIVCWTPIHIYVIIKALVTIPETTFQTVSWH\n",
       "FCIALGYTNSCLNPVLYAFLDENFKRCFREFCIPTSSNIEQQNSTRIRQNTRDHPSTANT\n",
       "VDRTNHQIRDPISNLPRVSVF---------------------------------------\n",
       "--------\n",
       ">P35372-7\n",
       "------------------------------------------------------------\n",
       "---------------------------------MDSSAAPTNASNCTDALAYSSCSPAPS\n",
       "PGSWVNLSHLDGNLSDPCGPNRTDLGGRDSLCPPTGSPSMITAITIMALYSIVCVVGLFG\n",
       "NFLVMYVIVRYTKMKTATNIYIFNLALADALAT----STLPFQSVNYLMGTWPFGTILCK\n",
       "IVISIDYYNMFTSIFTLCTMSVDRYIAVCHPVKALDFRTPRNAKIINVCNWILSSAIGLP\n",
       "VMFMATTKYRQGSIDCTLTF--SHPTWYWENLLKICVFIFAFIMPVLIITVCYGLMILRL\n",
       "KSVRMLSGSKEKDRNLRRITRMVLVVVAVFIVCWTPIHIYVIIKALVTIPETTFQTVSWH\n",
       "FCIALGYTNSCLNPVLYAFLDENFKRCFREFCIPTSSNIEQQNSTRIRQNTRDHPSTANT\n",
       "VDRTNHQKIDLFQKSSLLNCEH---------T--KG------------------------\n",
       "--------\n",
       ">P35372-8\n",
       "------------------------------------------------------------\n",
       "---------------------------------MDSSAAPTNASNCTDALAYSSCSPAPS\n",
       "PGSWVNLSHLDGNLSDPCGPNRTDLGGRDSLCPPTGSPSMITAITIMALYSIVCVVGLFG\n",
       "NFLVMYVIVRYTKMKTATNIYIFNLALADALAT----STLPFQSVNYLMGTWPFGTILCK\n",
       "IVISIDYYNMFTSIFTLCTMSVDRYIAVCHPVKALDFRTPRNAKIINVCNWILSSAIGLP\n",
       "VMFMATTKYRQGSIDCTLTF--SHPTWYWENLLKICVFIFAFIMPVLIITVCYGLMILRL\n",
       "KSVRMLSGSKEKDRNLRRITRMVLVVVAVFIVCWTPIHIYVIIKALVTIPETTFQTVSWH\n",
       "FCIALGYTNSCLNPVLYAFLDENFKRCFREFCIPTSSNIEQQNSTRIRQNTRDHPSTANT\n",
       "VDRTNHQRERRQK--SDW------------------------------------------\n",
       "--------\n",
       ">P35372-9\n",
       "------------------------------------------------------------\n",
       "---------------------------------MDSSAAPTNASNCTDALAYSSCSPAPS\n",
       "PGSWVNLSHLDGNLSDPCGPNRTDLGGRDSLCPPTGSPSMITAITIMALYSIVCVVGLFG\n",
       "NFLVMYVIVRYTKMKTATNIYIFNLALADALAT----STLPFQSVNYLMGTWPFGTILCK\n",
       "IVISIDYYNMFTSIFTLCTMSVDRYIAVCHPVKALDFRTPRNAKIINVCNWILSSAIGLP\n",
       "VMFMATTKYRQGSIDCTLTF--SHPTWYWENLLKICVFIFAFIMPVLIITVCYGLMILRL\n",
       "KSVRMLSGSKEKDRNLRRITRMVLVVVAVFIVCWTPIHIYVIIKALVTIPETTFQTVSWH\n",
       "FCIALGYTNSCLNPVLYAFLDENFKRCFREFCIPTSSNIEQQNSTRIRQNTRDHPSTANT\n",
       "VDRTNHQVELNLDC--------HCENAKPWPLSYNAGQSPFPFPGRV-------------\n",
       "--------\n",
       ">P35372-10\n",
       "MCLHRRVPSEETYSLDRFAQNPPLFPPPSLPASESRMAHAPLLQRCGAARTGFCKKQQEL\n",
       "WQRRKEAAEALGTRKVSVLLATSHSGARPAVSTMDSSAAPTNASNCTDALAYSSCSPAPS\n",
       "PGSWVNLSHLDGNLSDPCGPNRTDLGGRDSLCPPTGSPSMITAITIMALYSIVCVVGLFG\n",
       "NFLVMYVIVRYTKMKTATNIYIFNLALADALAT----STLPFQSVNYLMGTWPFGTILCK\n",
       "IVISIDYYNMFTSIFTLCTMSVDRYIAVCHPVKALDFRTPRNAKIINVCNWILSSAIGLP\n",
       "VMFMATTKYRQGSIDCTLTF--SHPTWYWENLLKICVFIFAFIMPVLIITVCYGLMILRL\n",
       "KSVRMLSGSKEKDRNLRRITRMVLVVVAVFIVCWTPIHIYVIIKALVTIPETTFQTVSWH\n",
       "FCIALGYTNSCLNPVLYAFLDENFKRCFREFCIPTSSNIEQQNSTRIRQNTRDHPSTANT\n",
       "VDRTNHQLENLEAETAPLP-----------------------------------------\n",
       "--------\n",
       ">P35372-11\n",
       "------------------------------------------------------------\n",
       "---------------------------------MDSSAAPTNASNCTDALAYSSCSPAPS\n",
       "PGSWVNLSHLDGNLSDPCGPNRTDLGGRDSLCPPTGSPSMITAITIMALYSIVCVVGLFG\n",
       "NFLVMYVIVRYTKMKTATNIYIFNLALADALAT----STLPFQSVNYLMGTWPFGTILCK\n",
       "IVISIDYYNMFTSIFTLCTMSVDRYIAVCHPVKALDFRTPRNAKIINVCNWILSSAIGLP\n",
       "VMFMATTKYRQGSIDCTLTF--SHPTWYWENLLKICVFIFAFIMPVLIITVCYGLMILRL\n",
       "KSVRMLSGSKEKDRNLRRITRMVLVVVAVFIVCWTPIHIYVIIKALVTIPETTFQTVSWH\n",
       "FCIALGYTNSCLNPVLYAFLDENFKRCFREFCIPTSSNIEQQNSTRIRQNTRDHPSTANT\n",
       "VDRTNHQS----------------------------------------------------\n",
       "--------\n",
       ">P35372-12\n",
       "------------------------------------------------------------\n",
       "------------------------------------------------------------\n",
       "------------------------------------------------------------\n",
       "-------------MKTATNIYIFNLALADALAT----STLPFQSVNYLMGTWPFGTILCK\n",
       "IVISIDYYNMFTSIFTLCTMSVDRYIAVCHPVKALDFRTPRNAKIINVCNWILSSAIGLP\n",
       "VMFMATTKYRQGSIDCTLTF--SHPTWYWENLLKICVFIFAFIMPVLIITVCYGLMILRL\n",
       "KSVRMLSGSKEKDRNLRRITRMVLVVVAVFIVCWTPIHIYVIIKALVTIPETTFQTVSWH\n",
       "FCIALGYTNSCLNPVLYAFLDENFKRCFREFCIPTSSNIEQQNSTRIRQNTRDHPSTANT\n",
       "VDRTNHQLENLEAETAPLP-----------------------------------------\n",
       "--------\n",
       ">P35372-13\n",
       "------------------------------------------------------------\n",
       "------------------------------------------------------------\n",
       "---------------------------------------------MMRAKSIS-------\n",
       "--TKAGKPSRYTKMKTATNIYIFNLALADALAT----STLPFQSVNYLMGTWPFGTILCK\n",
       "IVISIDYYNMFTSIFTLCTMSVDRYIAVCHPVKALDFRTPRNAKIINVCNWILSSAIGLP\n",
       "VMFMATTKYRQGSIDCTLTF--SHPTWYWENLLKICVFIFAFIMPVLIITVCYGLMILRL\n",
       "KSVRMLSGSKEKDRNLRRITRMVLVVVAVFIVCWTPIHIYVIIKALVTIPETTFQTVSWH\n",
       "FCIALGYTNSCLNPVLYAFLDENFKRCFREFCIPTSSNIEQQNSTRIRQNTRDHPSTANT\n",
       "VDRTNHQLENLEAETAPLP-----------------------------------------\n",
       "--------\n",
       ">P35372-14\n",
       "------------------------------------------------------------\n",
       "------------------------------------------------------------\n",
       "------------------------------------------------------------\n",
       "-------------MKTATNIYIFNLALADALAT----STLPFQSVNYLMGTWPFGTILCK\n",
       "IVISIDYYNMFTSIFTLCTMSVDRYIAVCHPVKALDFRTPRNAKIINVCNWILSSAIGLP\n",
       "VMFMATTKYRQGSIDCTLTF--SHPTWYWENLLKICVFIFAFIMPVLIITVCYGLMILRL\n",
       "KSVRMLSGSKEKDRNLRRITRMVLVVVAVFIVCWTPIHIYVIIKALVTIPETTFQTVSWH\n",
       "FCIALGYTNSCLNPVLYAFLDENFKRCFREFCIPTSSNIEQQNSTRIRQNTRDHPSTANT\n",
       "VDRTNHQNYYIIHRCCCNT-----------PLISQKPVLLWFCD----------------\n",
       "--------\n",
       ">P35372-15\n",
       "------------------------------------------------------------\n",
       "------------------------------------------------------------\n",
       "------------------------------------------------------------\n",
       "-------------MKTATNIYIFNLALADALAT----STLPFQSVNYLMGTWPFGTILCK\n",
       "IVISIDYYNMFTSIFTLCTMSVDRYIAVCHPVKALDFRTPRNAKIINVCNWILSSAIGLP\n",
       "VMFMATTKYRQGSIDCTLTF--SHPTWYWENLLKICVFIFAFIMPVLIITVCYGLMILRL\n",
       "KSVRMLSGSKEKDRNLRRITRMVLVVVAVFIVCWTPIHIYVIIKALVTIPETTFQTVSWH\n",
       "FCIALGYTNSCLNPVLYAFLDENFKRCFREFCIPTSSNIEQQNSTRIRQNTRDHPSTANT\n",
       "VDRTNHQVRSL-------------------------------------------------\n",
       "--------\n",
       ">P35372-16\n",
       "------------------------------------------------------------\n",
       "---------------------------------MDSSAAPTNASNCTDALAYSSCSPAPS\n",
       "PGSWVNLSHLDGNLSDPCGPNRTDLGGRDSLCPPTGSPSMITAITIMALYSIVCVVGLFG\n",
       "NFLVMYVIVRYSWFVIG-----------GPEGRRKQ------------RRL-GEDKR---\n",
       "-------------------------A----------------------------------\n",
       "--------RGCGEKG---------------------------------------------\n",
       "------------------------------------------------------------\n",
       "------------------------------------------------------------\n",
       "------------------------------------------------------------\n",
       "--------\n",
       ">P35372-17\n",
       "------------------------------------------------------------\n",
       "---------------------------------MDSSAAPTNASNCTDALAYSSCSPAPS\n",
       "PGSWVNLSHLDGNLSDPCGPNRTDLGGRDSLCPPTGSPSMITAITIMALYSIVCVVGLFG\n",
       "NFLVMYVIVSSSWF----------------------------------------------\n",
       "------------------------------------------------------------\n",
       "------------------------------------------------------------\n",
       "------------------------------------------------------------\n",
       "------------------------------------------------------------\n",
       "------------------------------------------------------------\n",
       "--------\n",
       ">P35372-18\n",
       "------------------------------------------------------------\n",
       "---------------------------------MDSSAAPTNASNCTDALAYSSCSPAPS\n",
       "PGSWVNLSHLDGNLSDPCGPNRTDLGGRDSLCPPTGSPSMITAITIMALYSIVCVVGLFG\n",
       "NFLVMYVIVRFHRLYTNI--LSSNLVLGKPAEDLCFHLRLHYASAHHYRVLWTDDLA---\n",
       "-------------------------PQECP-----------------HALWLQRKGQESS\n",
       "K----DHQDGAGGGGCVHRLLDSHSHLRHH------------------------------\n",
       "------------------------------------------------------------\n",
       "------------------------------------------------------------\n",
       "------------------------------------------------------------\n",
       "--------\n"
      ]
     },
     "metadata": {},
     "output_type": "display_data"
    }
   ],
   "source": [
    "with open('opioid_align.fasta') as f:\n",
    "    seqdata = f.read()\n",
    "Fasta(seqdata)"
   ]
  },
  {
   "cell_type": "markdown",
   "id": "66cea811",
   "metadata": {},
   "source": [
    "We will next go through the currently published structures (as of 2021_05_31) of the $\\mu$ opioid receptor. The first of these structures is from"
   ]
  },
  {
   "cell_type": "code",
   "execution_count": 4,
   "id": "1133f9a1",
   "metadata": {},
   "outputs": [
    {
     "data": {
      "application/vnd.jupyter.widget-view+json": {
       "model_id": "46fa3b9570104b55a949fb0da182d8ef",
       "version_major": 2,
       "version_minor": 0
      },
      "text/plain": [
       "NGLWidget()"
      ]
     },
     "metadata": {},
     "output_type": "display_data"
    }
   ],
   "source": [
    "widget1 = nglview.show_biopython(data)\n",
    "p = TrajectoryPlayer(widget1)\n",
    "#widget1.add_ball_and_stick()\n",
    "widget1\n"
   ]
  },
  {
   "cell_type": "code",
   "execution_count": 6,
   "id": "7073e242",
   "metadata": {},
   "outputs": [
    {
     "data": {
      "application/vnd.jupyter.widget-view+json": {
       "model_id": "f47b8c83e96d45ffad1cc0b820428694",
       "version_major": 2,
       "version_minor": 0
      },
      "text/plain": [
       "NGLWidget()"
      ]
     },
     "metadata": {},
     "output_type": "display_data"
    }
   ],
   "source": [
    "widget2 = nglview.show_biopython(data1)\n",
    "p = TrajectoryPlayer(widget2)\n",
    "#widget2.add_ball_and_stick()\n",
    "widget2"
   ]
  },
  {
   "cell_type": "code",
   "execution_count": 7,
   "id": "0030ed0c",
   "metadata": {},
   "outputs": [
    {
     "data": {
      "application/vnd.jupyter.widget-view+json": {
       "model_id": "6b2adacb84974744bb15c1eaf2d07020",
       "version_major": 2,
       "version_minor": 0
      },
      "text/plain": [
       "NGLWidget()"
      ]
     },
     "metadata": {},
     "output_type": "display_data"
    }
   ],
   "source": [
    "widget3 = nglview.show_biopython(data2)\n",
    "p = TrajectoryPlayer(widget3)\n",
    "#widget3.add_ball_and_stick('PRO[224]')\n",
    "#widget3.add_representation(repr_type=\"licorice\", selection='227')\n",
    "widget3"
   ]
  },
  {
   "cell_type": "code",
   "execution_count": 9,
   "id": "d39e77b4",
   "metadata": {},
   "outputs": [
    {
     "data": {
      "application/vnd.jupyter.widget-view+json": {
       "model_id": "b688ec4342104e818e0ce6d3508251ac",
       "version_major": 2,
       "version_minor": 0
      },
      "text/plain": [
       "NGLWidget()"
      ]
     },
     "metadata": {},
     "output_type": "display_data"
    }
   ],
   "source": [
    "widget4 = nglview.show_biopython(data3)\n",
    "p = TrajectoryPlayer(widget4)\n",
    "#widget4.add_ball_and_stick()\n",
    "widget4"
   ]
  },
  {
   "cell_type": "markdown",
   "id": "9cc788fd",
   "metadata": {},
   "source": [
    "We will explore some important important domains within the receptor that are thought to be key for bias. These regions serve as microwitches. The first we will examine the NPxxY motif."
   ]
  },
  {
   "cell_type": "code",
   "execution_count": 10,
   "id": "edda52b4",
   "metadata": {},
   "outputs": [
    {
     "data": {
      "application/vnd.jupyter.widget-view+json": {
       "model_id": "d84a6446ae954df8af1eb9f919de0d19",
       "version_major": 2,
       "version_minor": 0
      },
      "text/plain": [
       "NGLWidget()"
      ]
     },
     "metadata": {},
     "output_type": "display_data"
    }
   ],
   "source": [
    "widget5 = nglview.show_biopython(data)\n",
    "p = TrajectoryPlayer(widget5)\n",
    "#widget3.add_ball_and_stick('PRO[224]')\n",
    "widget5.add_representation(repr_type=\"licorice\", selection='332')\n",
    "widget5.add_representation(repr_type=\"licorice\", selection='333')\n",
    "widget5.add_representation(repr_type=\"licorice\", selection='336')\n",
    "widget5"
   ]
  },
  {
   "cell_type": "markdown",
   "id": "0cf9817b",
   "metadata": {},
   "source": [
    "The next we will consider is the PIF motif"
   ]
  },
  {
   "cell_type": "code",
   "execution_count": 11,
   "id": "6f7b8275",
   "metadata": {},
   "outputs": [
    {
     "data": {
      "application/vnd.jupyter.widget-view+json": {
       "model_id": "276ccdbcc7324a01962b6c3285bb02cb",
       "version_major": 2,
       "version_minor": 0
      },
      "text/plain": [
       "NGLWidget()"
      ]
     },
     "metadata": {},
     "output_type": "display_data"
    }
   ],
   "source": [
    "widget6 = nglview.show_biopython(data)\n",
    "p = TrajectoryPlayer(widget6)\n",
    "#widget3.add_ball_and_stick('PRO[224]')\n",
    "widget6.add_representation(repr_type=\"licorice\", selection='244')\n",
    "widget6.add_representation(repr_type=\"licorice\", selection='155')\n",
    "widget6.add_representation(repr_type=\"licorice\", selection='289')\n",
    "widget6.add_representation(repr_type=\"licorice\", selection='293')\n",
    "widget6"
   ]
  },
  {
   "cell_type": "code",
   "execution_count": 12,
   "id": "c2ed7bb2",
   "metadata": {},
   "outputs": [
    {
     "name": "stdout",
     "output_type": "stream",
     "text": [
      "/home/njm3/Molecular_Dynamics/MOR_Work/step5_input.pdb\n"
     ]
    }
   ],
   "source": [
    "pdb = '/home/njm3/Molecular_Dynamics/MOR_Work/step5_input.pdb'\n",
    "trr = '/home/njm3/Molecular_Dynamics/MOR_Work/step7_1.trr'\n",
    "print(pdb)"
   ]
  },
  {
   "cell_type": "code",
   "execution_count": 13,
   "id": "c7fe9845",
   "metadata": {},
   "outputs": [
    {
     "data": {
      "application/vnd.jupyter.widget-view+json": {
       "model_id": "6b3e29fa660b435cb09df185bdb6a19c",
       "version_major": 2,
       "version_minor": 0
      },
      "text/plain": [
       "NGLWidget()"
      ]
     },
     "metadata": {},
     "output_type": "display_data"
    }
   ],
   "source": [
    "widget = nglview.show_mdtraj(mdtraj.load(pdb))\n",
    "p = TrajectoryPlayer(widget)\n",
    "widget.add_ball_and_stick()\n",
    "p.spin = True\n",
    "def stop_spin():\n",
    "    p.spin = False\n",
    "    widget.close()\n",
    "#Timer(30, stop_spin).start()\n",
    "widget"
   ]
  },
  {
   "cell_type": "code",
   "execution_count": 8,
   "id": "e321c3ad-cdac-4260-93af-5c3d29e655b4",
   "metadata": {},
   "outputs": [
    {
     "name": "stdout",
     "output_type": "stream",
     "text": [
      "First paper reference\n",
      "a.manglik,a.c.kruse,t.s.kobilka,f.s.thian,j.m.mathiesr.k.sunahara,l.pardo,w.i.weis,b.k.kobilka,s.granier crystal structure of the {mu}-opioid receptor bound tmorphinan antagonist. nature v. 485 321 2012 issn 0028-0836 22437502 10.1038/nature10954 \n"
     ]
    }
   ],
   "source": [
    "print(\"First paper reference\")\n",
    "print(data3.header[\"journal_reference\"])"
   ]
  },
  {
   "cell_type": "code",
   "execution_count": 9,
   "id": "d85883cf",
   "metadata": {},
   "outputs": [
    {
     "name": "stdout",
     "output_type": "stream",
     "text": [
      "Second paper reference\n",
      "w.huang,a.manglik,a.j.venkatakrishnan,t.laeremans, e.n.feinberg,a.l.sanborn,h.e.kato,k.e.livingston, t.s.thorsen,r.c.kling,s.granier,p.gmeiner,s.m.husbandj.r.traynor,w.i.weis,j.steyaert,r.o.dror,b.k.kobilka structural insights into mu-opioid receptor activationature v. 524 315 2015 essn 1476-4687 26245379 10.1038/nature14886 \n"
     ]
    }
   ],
   "source": [
    "print(\"Second paper reference\")\n",
    "print(data.header[\"journal_reference\"])"
   ]
  },
  {
   "cell_type": "code",
   "execution_count": 7,
   "id": "111539d2-e6c0-4abb-a1df-4e772f841b2c",
   "metadata": {},
   "outputs": [
    {
     "name": "stdout",
     "output_type": "stream",
     "text": [
      "second paper reference\n",
      "a.koehl,h.hu,s.maeda,y.zhang,q.qu,j.m.paggi,n.r.latord.hilger,r.dawson,h.matile,g.f.x.schertler,s.granier,w.i.weis,r.o.dror,a.manglik,g.skiniotis,b.k.kobilka structure of the mu-opioid receptor-giprotein complexnature v. 558 547 2018 issn 0028-0836 29899455 10.1038/s41586-018-0219-7 \n"
     ]
    }
   ],
   "source": [
    "print(\"Third paper reference\")\n",
    "print(data1.header[\"journal_reference\"])"
   ]
  },
  {
   "cell_type": "markdown",
   "id": "83af2b9f-abf9-40dd-b237-d85cb2f791af",
   "metadata": {
    "jupyter": {
     "source_hidden": true
    },
    "tags": []
   },
   "source": [
    "# 02 - Notes on structural papers"
   ]
  },
  {
   "cell_type": "markdown",
   "id": "03d72ac2-c32d-4860-a063-f2d69ecd6ea3",
   "metadata": {},
   "source": [
    "## 2.1 - Background"
   ]
  },
  {
   "cell_type": "markdown",
   "id": "a9d7d0e6-3b99-488e-9fba-981840d62c2a",
   "metadata": {},
   "source": [
    "The $\\mu$-opioid receptor is the primary receptor responsible for the analgesic effects of classical analgesics such as morphine, heroin, and fentanyl, and as such represents one of the oldest drug targets. The model of operation for the MOR in recent years has been that it signals through two pathways: the G protein pathway and the $\\beta$-arrestin pathway. The idea was that the G protein pathway was responsible for the analgesic effects, euphoria, and physical dependence (cough suppression?) assocated with opioids, while the $\\beta$-arrestin pathway was responsible for some of the adverse effects of opioids such as respiratory depression, tolerance, and constipation. The G proteins that couple to the MOR are the of $G_{i/o}$ and $G_{z}$ families, and act through the inhibition of adenylyl cyclase (by the $G_{\\alpha}$ subunit) and the activation of GRIK channels (by the $G_{\\beta\\gamma}$ subunits). In contrast, $\\beta$-arrestin is involved in the downregulation and internalization of the receptor (after phosphorylation by GRK's such as GRK2), which leads to tolerance, and in addition it is thought to signal through the ERK pathway. \n",
    "\n",
    "MOR belongs to the $\\gamma$ subclass of class A GPCRs, and is closely related to the two other opioid receptors $\\kappa$-OR and $\\gamma$-OR. \n",
    "\n",
    "Exploring the chemical space for this recpetor has been an intense area of research, especially since the publication of the two XRC and two cryo-EM structures of the receptor. This is due to the important clinical implications of drug discovery here, since pain is often the cheif presenting complaint in the clinic, and millions of people suffer from chronic pain conditions. This has important financial implications, as the opioid industry is valued at around \\\\$35B, and the illicit opioid market has been estimated at \\\\$70B in 2009, which funds wars, crime, and terrorism. The opioid epidemic in america is the leading cause of overdose deaths and in europe, and it has contributed to the spread of AIDS worldwide.    \n",
    "\n",
    "The three pharmacological parameters of a drug that drive its clinical use are the efficacy, potency, and selectivity of the compound. Distinct pharmacophores have been thought to encode selectivity, efficacy, and potency, but this is not necessarily true in general, and the effects cannot be assigned to distinct structural regions of a drug in all cases. "
   ]
  },
  {
   "cell_type": "markdown",
   "id": "ea4d539b-d72b-4360-b6f0-1314cb97ae3b",
   "metadata": {},
   "source": [
    "## 2.2 - 2012 paper by Manglik et al."
   ]
  },
  {
   "cell_type": "markdown",
   "id": "b4fe7dc4-2963-4633-b146-d4e645053a65",
   "metadata": {},
   "source": [
    "In the first paper, a murine MOR-T4 lysozyme fusion construct bound to the $\\beta$-FNA morphinan ligand was crystallized using an *in-meso* method **(look up what this is)**, data was collected from 25 crystals using XRC, and the structure was determined to a $2.8 \\ \\overset{\\circ}{\\mathrm{A}}$ resolution using molecular replacement.\n",
    "\n",
    "The crystal lattice for the MOR showed alternating aqueus and lipidic layers, with MOR dimers associating with interactions at TM 5 and 6, and some additional contact between TM 1 and 2 and H8. ***I wonder if the interactions at helix 6 are able to affect the ability of the receptor to undergo the outward motion of TM6 upon activation, which could decrease receptor activity in conditions prone to dimerization (does this occur in the cell or is this a byproduct of being packed together in the lattice?)***. The helix TM3 is connected to ECL2 through a disulfide bond between C$140^{3.25}$ and C$217$ using Ballesteros-Weinstein numbers."
   ]
  },
  {
   "cell_type": "code",
   "execution_count": 26,
   "id": "fb8cc220-87b0-481a-ac68-04f9416fbf55",
   "metadata": {
    "tags": []
   },
   "outputs": [
    {
     "name": "stdout",
     "output_type": "stream",
     "text": [
      "BW X.50 numbered residues for MOR\n"
     ]
    },
    {
     "data": {
      "application/vnd.jupyter.widget-view+json": {
       "model_id": "ecc5c535b9644983a5cb6b2dc1919d1a",
       "version_major": 2,
       "version_minor": 0
      },
      "text/plain": [
       "NGLWidget()"
      ]
     },
     "metadata": {},
     "output_type": "display_data"
    }
   ],
   "source": [
    "print(\"BW X.50 numbered residues for MOR\")\n",
    "widget7 = nglview.show_biopython(data3)\n",
    "p = TrajectoryPlayer(widget7)\n",
    "#widget3.add_ball_and_stick('PRO[224]')\n",
    "## numbers below correspond to GPCRdb numbers ##\n",
    "widget7.add_representation(repr_type=\"hyperball\", selection='86') ## N88 - TM1\n",
    "widget7.add_representation(repr_type=\"hyperball\", selection='114') ## D116 - TM2\n",
    "widget7.add_representation(repr_type=\"hyperball\", selection='165') ## R167 - TM3\n",
    "widget7.add_representation(repr_type=\"hyperball\", selection='192') ## W194 - TM4\n",
    "widget7.add_representation(repr_type=\"hyperball\", selection='244') ## P246 - TM5\n",
    "widget7.add_representation(repr_type=\"hyperball\", selection='295') ## P297 - TM6\n",
    "widget7.add_representation(repr_type=\"hyperball\", selection='333') ## P335 - TM7\n",
    "widget7"
   ]
  },
  {
   "cell_type": "code",
   "execution_count": 27,
   "id": "eed66799-a5c2-4eb4-9401-37994c655609",
   "metadata": {},
   "outputs": [
    {
     "name": "stdout",
     "output_type": "stream",
     "text": [
      "MOR TM3-ECL2 Disulfide Bond\n"
     ]
    },
    {
     "data": {
      "application/vnd.jupyter.widget-view+json": {
       "model_id": "5b5288b8ab3940a6b6a6875eeb9491b1",
       "version_major": 2,
       "version_minor": 0
      },
      "text/plain": [
       "NGLWidget()"
      ]
     },
     "metadata": {},
     "output_type": "display_data"
    }
   ],
   "source": [
    "print(\"MOR TM3-ECL2 Disulfide Bond\")\n",
    "widget8 = nglview.show_biopython(data3)\n",
    "#p = TrajectoryPlayer(widget7)\n",
    "#widget3.add_ball_and_stick('PRO[224]')\n",
    "widget8.add_representation(repr_type=\"hyperball\", selection='140') ## C140 - TM3\n",
    "widget8.add_representation(repr_type=\"hyperball\", selection='217') # C217 - ECL2\n",
    "widget8"
   ]
  },
  {
   "cell_type": "markdown",
   "id": "621cdf66-bdcf-4d9b-9832-418ddf252db7",
   "metadata": {},
   "source": [
    "The intracellular interface of MOR is similar to rhodopsin with respect to the placements of TM3, TM5, and TM6. This paper did not observe an ionic salt bridge between the DRY motif in TM3 and the cytosolic side of TM6, which is similar to what is seen with $\\beta$2AR. ***Note, this is Thought to be the inactive state structure***. The D and R residues in the DRY motif do form an ionic salt bridge, and D164 also engages in an polar interaction with R179 in ICL2."
   ]
  },
  {
   "cell_type": "code",
   "execution_count": 28,
   "id": "d7179d2a-1b08-471f-b846-180fed8c8879",
   "metadata": {},
   "outputs": [
    {
     "name": "stdout",
     "output_type": "stream",
     "text": [
      "MOR DRY Motif\n"
     ]
    },
    {
     "data": {
      "application/vnd.jupyter.widget-view+json": {
       "model_id": "70dc88bc3a1a4a6486fc176ea0e9825d",
       "version_major": 2,
       "version_minor": 0
      },
      "text/plain": [
       "NGLWidget()"
      ]
     },
     "metadata": {},
     "output_type": "display_data"
    }
   ],
   "source": [
    "print(\"MOR DRY Motif\")\n",
    "widget9 = nglview.show_biopython(data3)\n",
    "#p = TrajectoryPlayer(widget7)\n",
    "#widget3.add_ball_and_stick('PRO[224]')\n",
    "widget9.add_representation(repr_type=\"hyperball\", selection='164') ## D166 - TM3\n",
    "widget9.add_representation(repr_type=\"hyperball\", selection='165') ## R167 - TM3\n",
    "widget9.add_representation(repr_type=\"hyperball\", selection='166') ## Y168 - TM3\n",
    "widget9.add_representation(repr_type=\"hyperball\", selection='179') ## R181 - ICL2\n",
    "widget9"
   ]
  },
  {
   "cell_type": "markdown",
   "id": "d96e41b4-b976-4e70-ba52-63732e6e78f4",
   "metadata": {},
   "source": [
    "Previous studies (Huang et al. *Functional role of a conserved motif in TM6 of the rat $\\mathit{\\mu}$-opioid receptor: Constitutively active and inactive receptors result from substitutions of Thr6.34(279) with Lys and Asp.* **Biochemistry** 2001) have shown that the replacement of T6.34 with K results in a constitutively active receptor. This may be because a polar interaction between T6.34 and R165(3.50) from the DRY motif stabilizes the receptor in the inactive state. ***This may imply that the TM3-TM6 distance can serve as an indicator of receptor activation*** "
   ]
  },
  {
   "cell_type": "code",
   "execution_count": 29,
   "id": "82e7cfe2-7d4b-4772-a285-dece8d1b8150",
   "metadata": {},
   "outputs": [
    {
     "name": "stdout",
     "output_type": "stream",
     "text": [
      "MOR DRY-Thr 6.34 interaction\n"
     ]
    },
    {
     "data": {
      "application/vnd.jupyter.widget-view+json": {
       "model_id": "feabda7eb95b4b778a506da14432ff65",
       "version_major": 2,
       "version_minor": 0
      },
      "text/plain": [
       "NGLWidget()"
      ]
     },
     "metadata": {},
     "output_type": "display_data"
    }
   ],
   "source": [
    "print(\"MOR DRY-Thr 6.34 interaction\")\n",
    "widget10 = nglview.show_biopython(data3)\n",
    "#p = TrajectoryPlayer(widget7)\n",
    "#widget3.add_ball_and_stick('PRO[224]')\n",
    "widget10.add_representation(repr_type=\"hyperball\", selection='279') ## T281 - TM6\n",
    "widget10.add_representation(repr_type=\"hyperball\", selection='165') ## R167 - TM3\n",
    "widget10"
   ]
  },
  {
   "cell_type": "markdown",
   "id": "a098202c-7e70-494b-82c7-e9b290d1aa24",
   "metadata": {},
   "source": []
  },
  {
   "cell_type": "markdown",
   "id": "cbe5efa1-57bd-4556-a73f-d1511cc74326",
   "metadata": {},
   "source": [
    "## 2.3 - 2015 paper by Huang et al. "
   ]
  },
  {
   "cell_type": "markdown",
   "id": "3b624a5c-f8e0-4482-a4d4-b13bde587e90",
   "metadata": {},
   "source": [
    "In the second paper, the MOR structure was captured with XRC, and was stabilized using camel derived antibody fragments (nanobodies) that were G protein mimetic "
   ]
  },
  {
   "cell_type": "code",
   "execution_count": null,
   "id": "b936fc51-b467-43e1-81cc-fa0e2fbda42f",
   "metadata": {},
   "outputs": [],
   "source": []
  },
  {
   "cell_type": "code",
   "execution_count": null,
   "id": "0783f844-3c8d-4cc2-8116-6345f8e32ca5",
   "metadata": {},
   "outputs": [],
   "source": []
  }
 ],
 "metadata": {
  "kernelspec": {
   "display_name": "Python 3.8.5 64-bit ('base': conda)",
   "language": "python",
   "name": "python385jvsc74a57bd0752f92e4d4c588cdfa72e44a86ee9f8db3bacec94ee9e96a5ebe85d37c0bb04d"
  },
  "language_info": {
   "codemirror_mode": {
    "name": "ipython",
    "version": 3
   },
   "file_extension": ".py",
   "mimetype": "text/x-python",
   "name": "python",
   "nbconvert_exporter": "python",
   "pygments_lexer": "ipython3",
   "version": "3.8.5"
  },
  "metadata": {
   "interpreter": {
    "hash": "752f92e4d4c588cdfa72e44a86ee9f8db3bacec94ee9e96a5ebe85d37c0bb04d"
   }
  }
 },
 "nbformat": 4,
 "nbformat_minor": 5
}
