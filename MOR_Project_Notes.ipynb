{
 "cells": [
  {
   "cell_type": "markdown",
   "metadata": {
    "tags": []
   },
   "source": [
    "[![Binder](https://mybinder.org/badge_logo.svg)](https://mybinder.org/v2/gh/nmalcolm-mcw/MOR_analysis/HEAD)"
   ]
  },
  {
   "cell_type": "markdown",
   "metadata": {
    "tags": []
   },
   "source": [
    "# 01 - Humanized MOR model 10ns unbiased MD run data analysis"
   ]
  },
  {
   "cell_type": "markdown",
   "metadata": {},
   "source": [
    "The goal of this project is to discover features of the $\\mu$ opioid receptor and the ligands that bind to it that lead to specific types of agonism, such as biased agonism, partial agonism, or superagonism. "
   ]
  },
  {
   "cell_type": "markdown",
   "metadata": {
    "tags": []
   },
   "source": [
    "We will start by loading the modules we will need to analyze our trajectory data, and collecting some of the files we will need throughout this notebook.\n",
    "\n",
    "$$ \\mathbf{F}=m\\mathbf{\\ddot{x}} $$\n",
    "\n",
    "$$ \\int_{0}^{\\infty}f(\\mathbf{x})\\mathrm{d}x $$\n"
   ]
  },
  {
   "cell_type": "code",
   "execution_count": 1,
   "metadata": {
    "tags": []
   },
   "outputs": [
    {
     "data": {
      "application/vnd.jupyter.widget-view+json": {
       "model_id": "31101e5f70394156ae7b2acbff4c8b43",
       "version_major": 2,
       "version_minor": 0
      },
      "text/plain": []
     },
     "metadata": {},
     "output_type": "display_data"
    }
   ],
   "source": [
    "%matplotlib inline\n",
    "import matplotlib.pyplot as plt\n",
    "import numpy as np\n",
    "import mdshare\n",
    "#import pyemma\n",
    "import pickle\n",
    "from Bio.PDB import *\n",
    "from Bio.PDB.MMCIFParser import MMCIFParser\n",
    "parser = MMCIFParser()\n",
    "import nglview\n",
    "import mdtraj\n",
    "import ipywidgets\n",
    "from threading import Timer\n",
    "from nglview.player import TrajectoryPlayer\n",
    "#pdbl = PDBList()\n",
    "#pdbl.retrieve_pdb_file('5C1M', pdir = '.', file_format = 'pdb')\n",
    "parser = PDBParser(PERMISSIVE = True, QUIET = True) \n",
    "data = parser.get_structure(\"5c1m\",\"pdb5c1m.ent\")\n",
    "#pdbl.retrieve_pdb_file('6DDE', pdir = '.', file_format = 'pdb')\n",
    "data1 = parser.get_structure(\"6dde\",\"pdb6dde.ent\")\n",
    "#pdbl.retrieve_pdb_file('6DDF', pdir = '.', file_format = 'pdb')\n",
    "data2 = parser.get_structure(\"6ddf\",\"pdb6ddf.ent\")\n",
    "#pdbl.retrieve_pdb_file('4DKL', pdir = '.', file_format = 'pdb')\n",
    "data3 = parser.get_structure(\"4dkl\",\"pdb4dkl.ent\")"
   ]
  },
  {
   "cell_type": "code",
   "execution_count": 2,
   "metadata": {
    "tags": []
   },
   "outputs": [],
   "source": [
    "from IPython.display import display\n",
    "def Fasta(seqdata=''):\n",
    "    bundle = {}\n",
    "    bundle['application/vnd.fasta.fasta'] = seqdata\n",
    "    bundle['text/plain'] = seqdata\n",
    "    display(bundle, raw=True)\n"
   ]
  },
  {
   "cell_type": "code",
   "execution_count": 3,
   "metadata": {},
   "outputs": [
    {
     "data": {
      "application/vnd.fasta.fasta": ">P35372\n------------------------------------------------------------\n---------------------------------MDSSAAPTNASNCTDALAYSSCSPAPS\nPGSWVNLSHLDGNLSDPCGPNRTDLGGRDSLCPPTGSPSMITAITIMALYSIVCVVGLFG\nNFLVMYVIVRYTKMKTATNIYIFNLALADALAT----STLPFQSVNYLMGTWPFGTILCK\nIVISIDYYNMFTSIFTLCTMSVDRYIAVCHPVKALDFRTPRNAKIINVCNWILSSAIGLP\nVMFMATTKYRQGSIDCTLTF--SHPTWYWENLLKICVFIFAFIMPVLIITVCYGLMILRL\nKSVRMLSGSKEKDRNLRRITRMVLVVVAVFIVCWTPIHIYVIIKALVTIPETTFQTVSWH\nFCIALGYTNSCLNPVLYAFLDENFKRCFREFCIPTSSNIEQQNSTRIRQNTRDHPSTANT\nVDRTNHQLENLEAETAPLP-----------------------------------------\n--------\n>P35372-2\n------------------------------------------------------------\n---------------------------------MDSSAAPTNASNCTDALAYSSCSPAPS\nPGSWVNLSHLDGNLSDPCGPNRTDLGGRDSLCPPTGSPSMITAITIMALYSIVCVVGLFG\nNFLVMYVIVRYTKMKTATNIYIFNLALADALAT----STLPFQSVNYLMGTWPFGTILCK\nIVISIDYYNMFTSIFTLCTMSVDRYIAVCHPVKALDFRTPRNAKIINVCNWILSSAIGLP\nVMFMATTKYRQGSIDCTLTF--SHPTWYWENLLKICVFIFAFIMPVLIITVCYGLMILRL\nKSVRMLSGSKEKDRNLRRITRMVLVVVAVFIVCWTPIHIYVIIKALVTIPETTFQTVSWH\nFCIALGYTNSCLNPVLYAFLDENFKRCFREFCIPTSSNIEQQNSTRIRQNTRDHPSTANT\nVDRTNHQVRSL-------------------------------------------------\n--------\n>P35372-3\n------------------------------------------------------------\n---------------------------------MDSSAAPTNASNCTDALAYSSCSPAPS\nPGSWVNLSHLDGNLSDPCGPNRTDLGGRDSLCPPTGSPSMITAITIMALYSIVCVVGLFG\nNFLVMYVIVRYTKMKTATNIYIFNLALADALAT----STLPFQSVNYLMGTWPFGTILCK\nIVISIDYYNMFTSIFTLCTMSVDRYIAVCHPVKALDFRTPRNAKIINVCNWILSSAIGLP\nVMFMATTKYRQGSIDCTLTF--SHPTWYWENLLKICVFIFAFIMPVLIITVCYGLMILRL\nKSVRMLSGSKEKDRNLRRITRMVLVVVAVFIVCWTPIHIYVIIKALVTIPETTFQTVSWH\nFCIALGYTNSCLNPVLYAFLDENFKRCFREFCIPTSSNIEQQNSTRIRQNTRDHPSTANT\nVDRTNHQCLPIPSL-SCWALEQGCLVVYPGPL--QGPLVRYDLPAILHSSCLRGNTAPSP\nSGGAFLLS\n>P35372-4\n------------------------------------------------------------\n---------------------------------MDSSAAPTNASNCTDALAYSSCSPAPS\nPGSWVNLSHLDGNLSDPCGPNRTDLGGRDSLCPPTGSPSMITAITIMALYSIVCVVGLFG\nNFLVMYVIVRYTKMKTATNIYIFNLALADALAT----STLPFQSVNYLMGTWPFGTILCK\nIVISIDYYNMFTSIFTLCTMSVDRYIAVCHPVKALDFRTPRNAKIINVCNWILSSAIGLP\nVMFMATTKYRQGSIDCTLTF--SHPTWYWENLLKICVFIFAFIMPVLIITVCYGLMILRL\nKSVRMLSGSKEKDRNLRRITRMVLVVVAVFIVCWTPIHIYVIIKALVTIPETTFQTVSWH\nFCIALGYTNSCLNPVLYAFLDENFKRCFREFCIPTSSNIEQQNSTRIRQNTRDHPSTANT\nVDRTNHQGPPAKFV-ADQLAGSS-------------------------------------\n--------\n>P35372-5\n------------------------------------------------------------\n---------------------------------MDSSAAPTNASNCTDALAYSSCSPAPS\nPGSWVNLSHLDGNLSDPCGPNRTDLGGRDSLCPPTGSPSMITAITIMALYSIVCVVGLFG\nNFLVMYVIVRYTKMKTATNIYIFNLALADALAT----STLPFQSVNYLMGTWPFGTILCK\nIVISIDYYNMFTSIFTLCTMSVDRYIAVCHPVKALDFRTPRNAKIINVCNWILSSAIGLP\nVMFMATTKYRQGSIDCTLTF--SHPTWYWENLLKICVFIFAFIMPVLIITVCYGLMILRL\nKSVRMLSGSKEKDRNLRRITRMVLVVVAVFIVCWTPIHIYVIIKALVTIPETTFQTVSWH\nFCIALGYTNSCLNPVLYAFLDENFKRCFREFCIPTSSNIEQQNSTRIRQNTRDHPSTANT\nVDRTNHQPPLAVSM-AQI------FTRYPPPT--HREK-----------TCNDYMKR---\n--------\n>P35372-6\n------------------------------------------------------------\n---------------------------------MDSSAAPTNASNCTDALAYSSCSPAPS\nPGSWVNLSHLDGNLSDPCGPNRTDLGGRDSLCPPTGSPSMITAITIMALYSIVCVVGLFG\nNFLVMYVIVRYTKMKTATNIYIFNLALADALAT----STLPFQSVNYLMGTWPFGTILCK\nIVISIDYYNMFTSIFTLCTMSVDRYIAVCHPVKALDFRTPRNAKIINVCNWILSSAIGLP\nVMFMATTKYRQGSIDCTLTF--SHPTWYWENLLKICVFIFAFIMPVLIITVCYGLMILRL\nKSVRMLSGSKEKDRNLRRITRMVLVVVAVFIVCWTPIHIYVIIKALVTIPETTFQTVSWH\nFCIALGYTNSCLNPVLYAFLDENFKRCFREFCIPTSSNIEQQNSTRIRQNTRDHPSTANT\nVDRTNHQIRDPISNLPRVSVF---------------------------------------\n--------\n>P35372-7\n------------------------------------------------------------\n---------------------------------MDSSAAPTNASNCTDALAYSSCSPAPS\nPGSWVNLSHLDGNLSDPCGPNRTDLGGRDSLCPPTGSPSMITAITIMALYSIVCVVGLFG\nNFLVMYVIVRYTKMKTATNIYIFNLALADALAT----STLPFQSVNYLMGTWPFGTILCK\nIVISIDYYNMFTSIFTLCTMSVDRYIAVCHPVKALDFRTPRNAKIINVCNWILSSAIGLP\nVMFMATTKYRQGSIDCTLTF--SHPTWYWENLLKICVFIFAFIMPVLIITVCYGLMILRL\nKSVRMLSGSKEKDRNLRRITRMVLVVVAVFIVCWTPIHIYVIIKALVTIPETTFQTVSWH\nFCIALGYTNSCLNPVLYAFLDENFKRCFREFCIPTSSNIEQQNSTRIRQNTRDHPSTANT\nVDRTNHQKIDLFQKSSLLNCEH---------T--KG------------------------\n--------\n>P35372-8\n------------------------------------------------------------\n---------------------------------MDSSAAPTNASNCTDALAYSSCSPAPS\nPGSWVNLSHLDGNLSDPCGPNRTDLGGRDSLCPPTGSPSMITAITIMALYSIVCVVGLFG\nNFLVMYVIVRYTKMKTATNIYIFNLALADALAT----STLPFQSVNYLMGTWPFGTILCK\nIVISIDYYNMFTSIFTLCTMSVDRYIAVCHPVKALDFRTPRNAKIINVCNWILSSAIGLP\nVMFMATTKYRQGSIDCTLTF--SHPTWYWENLLKICVFIFAFIMPVLIITVCYGLMILRL\nKSVRMLSGSKEKDRNLRRITRMVLVVVAVFIVCWTPIHIYVIIKALVTIPETTFQTVSWH\nFCIALGYTNSCLNPVLYAFLDENFKRCFREFCIPTSSNIEQQNSTRIRQNTRDHPSTANT\nVDRTNHQRERRQK--SDW------------------------------------------\n--------\n>P35372-9\n------------------------------------------------------------\n---------------------------------MDSSAAPTNASNCTDALAYSSCSPAPS\nPGSWVNLSHLDGNLSDPCGPNRTDLGGRDSLCPPTGSPSMITAITIMALYSIVCVVGLFG\nNFLVMYVIVRYTKMKTATNIYIFNLALADALAT----STLPFQSVNYLMGTWPFGTILCK\nIVISIDYYNMFTSIFTLCTMSVDRYIAVCHPVKALDFRTPRNAKIINVCNWILSSAIGLP\nVMFMATTKYRQGSIDCTLTF--SHPTWYWENLLKICVFIFAFIMPVLIITVCYGLMILRL\nKSVRMLSGSKEKDRNLRRITRMVLVVVAVFIVCWTPIHIYVIIKALVTIPETTFQTVSWH\nFCIALGYTNSCLNPVLYAFLDENFKRCFREFCIPTSSNIEQQNSTRIRQNTRDHPSTANT\nVDRTNHQVELNLDC--------HCENAKPWPLSYNAGQSPFPFPGRV-------------\n--------\n>P35372-10\nMCLHRRVPSEETYSLDRFAQNPPLFPPPSLPASESRMAHAPLLQRCGAARTGFCKKQQEL\nWQRRKEAAEALGTRKVSVLLATSHSGARPAVSTMDSSAAPTNASNCTDALAYSSCSPAPS\nPGSWVNLSHLDGNLSDPCGPNRTDLGGRDSLCPPTGSPSMITAITIMALYSIVCVVGLFG\nNFLVMYVIVRYTKMKTATNIYIFNLALADALAT----STLPFQSVNYLMGTWPFGTILCK\nIVISIDYYNMFTSIFTLCTMSVDRYIAVCHPVKALDFRTPRNAKIINVCNWILSSAIGLP\nVMFMATTKYRQGSIDCTLTF--SHPTWYWENLLKICVFIFAFIMPVLIITVCYGLMILRL\nKSVRMLSGSKEKDRNLRRITRMVLVVVAVFIVCWTPIHIYVIIKALVTIPETTFQTVSWH\nFCIALGYTNSCLNPVLYAFLDENFKRCFREFCIPTSSNIEQQNSTRIRQNTRDHPSTANT\nVDRTNHQLENLEAETAPLP-----------------------------------------\n--------\n>P35372-11\n------------------------------------------------------------\n---------------------------------MDSSAAPTNASNCTDALAYSSCSPAPS\nPGSWVNLSHLDGNLSDPCGPNRTDLGGRDSLCPPTGSPSMITAITIMALYSIVCVVGLFG\nNFLVMYVIVRYTKMKTATNIYIFNLALADALAT----STLPFQSVNYLMGTWPFGTILCK\nIVISIDYYNMFTSIFTLCTMSVDRYIAVCHPVKALDFRTPRNAKIINVCNWILSSAIGLP\nVMFMATTKYRQGSIDCTLTF--SHPTWYWENLLKICVFIFAFIMPVLIITVCYGLMILRL\nKSVRMLSGSKEKDRNLRRITRMVLVVVAVFIVCWTPIHIYVIIKALVTIPETTFQTVSWH\nFCIALGYTNSCLNPVLYAFLDENFKRCFREFCIPTSSNIEQQNSTRIRQNTRDHPSTANT\nVDRTNHQS----------------------------------------------------\n--------\n>P35372-12\n------------------------------------------------------------\n------------------------------------------------------------\n------------------------------------------------------------\n-------------MKTATNIYIFNLALADALAT----STLPFQSVNYLMGTWPFGTILCK\nIVISIDYYNMFTSIFTLCTMSVDRYIAVCHPVKALDFRTPRNAKIINVCNWILSSAIGLP\nVMFMATTKYRQGSIDCTLTF--SHPTWYWENLLKICVFIFAFIMPVLIITVCYGLMILRL\nKSVRMLSGSKEKDRNLRRITRMVLVVVAVFIVCWTPIHIYVIIKALVTIPETTFQTVSWH\nFCIALGYTNSCLNPVLYAFLDENFKRCFREFCIPTSSNIEQQNSTRIRQNTRDHPSTANT\nVDRTNHQLENLEAETAPLP-----------------------------------------\n--------\n>P35372-13\n------------------------------------------------------------\n------------------------------------------------------------\n---------------------------------------------MMRAKSIS-------\n--TKAGKPSRYTKMKTATNIYIFNLALADALAT----STLPFQSVNYLMGTWPFGTILCK\nIVISIDYYNMFTSIFTLCTMSVDRYIAVCHPVKALDFRTPRNAKIINVCNWILSSAIGLP\nVMFMATTKYRQGSIDCTLTF--SHPTWYWENLLKICVFIFAFIMPVLIITVCYGLMILRL\nKSVRMLSGSKEKDRNLRRITRMVLVVVAVFIVCWTPIHIYVIIKALVTIPETTFQTVSWH\nFCIALGYTNSCLNPVLYAFLDENFKRCFREFCIPTSSNIEQQNSTRIRQNTRDHPSTANT\nVDRTNHQLENLEAETAPLP-----------------------------------------\n--------\n>P35372-14\n------------------------------------------------------------\n------------------------------------------------------------\n------------------------------------------------------------\n-------------MKTATNIYIFNLALADALAT----STLPFQSVNYLMGTWPFGTILCK\nIVISIDYYNMFTSIFTLCTMSVDRYIAVCHPVKALDFRTPRNAKIINVCNWILSSAIGLP\nVMFMATTKYRQGSIDCTLTF--SHPTWYWENLLKICVFIFAFIMPVLIITVCYGLMILRL\nKSVRMLSGSKEKDRNLRRITRMVLVVVAVFIVCWTPIHIYVIIKALVTIPETTFQTVSWH\nFCIALGYTNSCLNPVLYAFLDENFKRCFREFCIPTSSNIEQQNSTRIRQNTRDHPSTANT\nVDRTNHQNYYIIHRCCCNT-----------PLISQKPVLLWFCD----------------\n--------\n>P35372-15\n------------------------------------------------------------\n------------------------------------------------------------\n------------------------------------------------------------\n-------------MKTATNIYIFNLALADALAT----STLPFQSVNYLMGTWPFGTILCK\nIVISIDYYNMFTSIFTLCTMSVDRYIAVCHPVKALDFRTPRNAKIINVCNWILSSAIGLP\nVMFMATTKYRQGSIDCTLTF--SHPTWYWENLLKICVFIFAFIMPVLIITVCYGLMILRL\nKSVRMLSGSKEKDRNLRRITRMVLVVVAVFIVCWTPIHIYVIIKALVTIPETTFQTVSWH\nFCIALGYTNSCLNPVLYAFLDENFKRCFREFCIPTSSNIEQQNSTRIRQNTRDHPSTANT\nVDRTNHQVRSL-------------------------------------------------\n--------\n>P35372-16\n------------------------------------------------------------\n---------------------------------MDSSAAPTNASNCTDALAYSSCSPAPS\nPGSWVNLSHLDGNLSDPCGPNRTDLGGRDSLCPPTGSPSMITAITIMALYSIVCVVGLFG\nNFLVMYVIVRYSWFVIG-----------GPEGRRKQ------------RRL-GEDKR---\n-------------------------A----------------------------------\n--------RGCGEKG---------------------------------------------\n------------------------------------------------------------\n------------------------------------------------------------\n------------------------------------------------------------\n--------\n>P35372-17\n------------------------------------------------------------\n---------------------------------MDSSAAPTNASNCTDALAYSSCSPAPS\nPGSWVNLSHLDGNLSDPCGPNRTDLGGRDSLCPPTGSPSMITAITIMALYSIVCVVGLFG\nNFLVMYVIVSSSWF----------------------------------------------\n------------------------------------------------------------\n------------------------------------------------------------\n------------------------------------------------------------\n------------------------------------------------------------\n------------------------------------------------------------\n--------\n>P35372-18\n------------------------------------------------------------\n---------------------------------MDSSAAPTNASNCTDALAYSSCSPAPS\nPGSWVNLSHLDGNLSDPCGPNRTDLGGRDSLCPPTGSPSMITAITIMALYSIVCVVGLFG\nNFLVMYVIVRFHRLYTNI--LSSNLVLGKPAEDLCFHLRLHYASAHHYRVLWTDDLA---\n-------------------------PQECP-----------------HALWLQRKGQESS\nK----DHQDGAGGGGCVHRLLDSHSHLRHH------------------------------\n------------------------------------------------------------\n------------------------------------------------------------\n------------------------------------------------------------\n--------\n",
      "text/plain": [
       ">P35372\n",
       "------------------------------------------------------------\n",
       "---------------------------------MDSSAAPTNASNCTDALAYSSCSPAPS\n",
       "PGSWVNLSHLDGNLSDPCGPNRTDLGGRDSLCPPTGSPSMITAITIMALYSIVCVVGLFG\n",
       "NFLVMYVIVRYTKMKTATNIYIFNLALADALAT----STLPFQSVNYLMGTWPFGTILCK\n",
       "IVISIDYYNMFTSIFTLCTMSVDRYIAVCHPVKALDFRTPRNAKIINVCNWILSSAIGLP\n",
       "VMFMATTKYRQGSIDCTLTF--SHPTWYWENLLKICVFIFAFIMPVLIITVCYGLMILRL\n",
       "KSVRMLSGSKEKDRNLRRITRMVLVVVAVFIVCWTPIHIYVIIKALVTIPETTFQTVSWH\n",
       "FCIALGYTNSCLNPVLYAFLDENFKRCFREFCIPTSSNIEQQNSTRIRQNTRDHPSTANT\n",
       "VDRTNHQLENLEAETAPLP-----------------------------------------\n",
       "--------\n",
       ">P35372-2\n",
       "------------------------------------------------------------\n",
       "---------------------------------MDSSAAPTNASNCTDALAYSSCSPAPS\n",
       "PGSWVNLSHLDGNLSDPCGPNRTDLGGRDSLCPPTGSPSMITAITIMALYSIVCVVGLFG\n",
       "NFLVMYVIVRYTKMKTATNIYIFNLALADALAT----STLPFQSVNYLMGTWPFGTILCK\n",
       "IVISIDYYNMFTSIFTLCTMSVDRYIAVCHPVKALDFRTPRNAKIINVCNWILSSAIGLP\n",
       "VMFMATTKYRQGSIDCTLTF--SHPTWYWENLLKICVFIFAFIMPVLIITVCYGLMILRL\n",
       "KSVRMLSGSKEKDRNLRRITRMVLVVVAVFIVCWTPIHIYVIIKALVTIPETTFQTVSWH\n",
       "FCIALGYTNSCLNPVLYAFLDENFKRCFREFCIPTSSNIEQQNSTRIRQNTRDHPSTANT\n",
       "VDRTNHQVRSL-------------------------------------------------\n",
       "--------\n",
       ">P35372-3\n",
       "------------------------------------------------------------\n",
       "---------------------------------MDSSAAPTNASNCTDALAYSSCSPAPS\n",
       "PGSWVNLSHLDGNLSDPCGPNRTDLGGRDSLCPPTGSPSMITAITIMALYSIVCVVGLFG\n",
       "NFLVMYVIVRYTKMKTATNIYIFNLALADALAT----STLPFQSVNYLMGTWPFGTILCK\n",
       "IVISIDYYNMFTSIFTLCTMSVDRYIAVCHPVKALDFRTPRNAKIINVCNWILSSAIGLP\n",
       "VMFMATTKYRQGSIDCTLTF--SHPTWYWENLLKICVFIFAFIMPVLIITVCYGLMILRL\n",
       "KSVRMLSGSKEKDRNLRRITRMVLVVVAVFIVCWTPIHIYVIIKALVTIPETTFQTVSWH\n",
       "FCIALGYTNSCLNPVLYAFLDENFKRCFREFCIPTSSNIEQQNSTRIRQNTRDHPSTANT\n",
       "VDRTNHQCLPIPSL-SCWALEQGCLVVYPGPL--QGPLVRYDLPAILHSSCLRGNTAPSP\n",
       "SGGAFLLS\n",
       ">P35372-4\n",
       "------------------------------------------------------------\n",
       "---------------------------------MDSSAAPTNASNCTDALAYSSCSPAPS\n",
       "PGSWVNLSHLDGNLSDPCGPNRTDLGGRDSLCPPTGSPSMITAITIMALYSIVCVVGLFG\n",
       "NFLVMYVIVRYTKMKTATNIYIFNLALADALAT----STLPFQSVNYLMGTWPFGTILCK\n",
       "IVISIDYYNMFTSIFTLCTMSVDRYIAVCHPVKALDFRTPRNAKIINVCNWILSSAIGLP\n",
       "VMFMATTKYRQGSIDCTLTF--SHPTWYWENLLKICVFIFAFIMPVLIITVCYGLMILRL\n",
       "KSVRMLSGSKEKDRNLRRITRMVLVVVAVFIVCWTPIHIYVIIKALVTIPETTFQTVSWH\n",
       "FCIALGYTNSCLNPVLYAFLDENFKRCFREFCIPTSSNIEQQNSTRIRQNTRDHPSTANT\n",
       "VDRTNHQGPPAKFV-ADQLAGSS-------------------------------------\n",
       "--------\n",
       ">P35372-5\n",
       "------------------------------------------------------------\n",
       "---------------------------------MDSSAAPTNASNCTDALAYSSCSPAPS\n",
       "PGSWVNLSHLDGNLSDPCGPNRTDLGGRDSLCPPTGSPSMITAITIMALYSIVCVVGLFG\n",
       "NFLVMYVIVRYTKMKTATNIYIFNLALADALAT----STLPFQSVNYLMGTWPFGTILCK\n",
       "IVISIDYYNMFTSIFTLCTMSVDRYIAVCHPVKALDFRTPRNAKIINVCNWILSSAIGLP\n",
       "VMFMATTKYRQGSIDCTLTF--SHPTWYWENLLKICVFIFAFIMPVLIITVCYGLMILRL\n",
       "KSVRMLSGSKEKDRNLRRITRMVLVVVAVFIVCWTPIHIYVIIKALVTIPETTFQTVSWH\n",
       "FCIALGYTNSCLNPVLYAFLDENFKRCFREFCIPTSSNIEQQNSTRIRQNTRDHPSTANT\n",
       "VDRTNHQPPLAVSM-AQI------FTRYPPPT--HREK-----------TCNDYMKR---\n",
       "--------\n",
       ">P35372-6\n",
       "------------------------------------------------------------\n",
       "---------------------------------MDSSAAPTNASNCTDALAYSSCSPAPS\n",
       "PGSWVNLSHLDGNLSDPCGPNRTDLGGRDSLCPPTGSPSMITAITIMALYSIVCVVGLFG\n",
       "NFLVMYVIVRYTKMKTATNIYIFNLALADALAT----STLPFQSVNYLMGTWPFGTILCK\n",
       "IVISIDYYNMFTSIFTLCTMSVDRYIAVCHPVKALDFRTPRNAKIINVCNWILSSAIGLP\n",
       "VMFMATTKYRQGSIDCTLTF--SHPTWYWENLLKICVFIFAFIMPVLIITVCYGLMILRL\n",
       "KSVRMLSGSKEKDRNLRRITRMVLVVVAVFIVCWTPIHIYVIIKALVTIPETTFQTVSWH\n",
       "FCIALGYTNSCLNPVLYAFLDENFKRCFREFCIPTSSNIEQQNSTRIRQNTRDHPSTANT\n",
       "VDRTNHQIRDPISNLPRVSVF---------------------------------------\n",
       "--------\n",
       ">P35372-7\n",
       "------------------------------------------------------------\n",
       "---------------------------------MDSSAAPTNASNCTDALAYSSCSPAPS\n",
       "PGSWVNLSHLDGNLSDPCGPNRTDLGGRDSLCPPTGSPSMITAITIMALYSIVCVVGLFG\n",
       "NFLVMYVIVRYTKMKTATNIYIFNLALADALAT----STLPFQSVNYLMGTWPFGTILCK\n",
       "IVISIDYYNMFTSIFTLCTMSVDRYIAVCHPVKALDFRTPRNAKIINVCNWILSSAIGLP\n",
       "VMFMATTKYRQGSIDCTLTF--SHPTWYWENLLKICVFIFAFIMPVLIITVCYGLMILRL\n",
       "KSVRMLSGSKEKDRNLRRITRMVLVVVAVFIVCWTPIHIYVIIKALVTIPETTFQTVSWH\n",
       "FCIALGYTNSCLNPVLYAFLDENFKRCFREFCIPTSSNIEQQNSTRIRQNTRDHPSTANT\n",
       "VDRTNHQKIDLFQKSSLLNCEH---------T--KG------------------------\n",
       "--------\n",
       ">P35372-8\n",
       "------------------------------------------------------------\n",
       "---------------------------------MDSSAAPTNASNCTDALAYSSCSPAPS\n",
       "PGSWVNLSHLDGNLSDPCGPNRTDLGGRDSLCPPTGSPSMITAITIMALYSIVCVVGLFG\n",
       "NFLVMYVIVRYTKMKTATNIYIFNLALADALAT----STLPFQSVNYLMGTWPFGTILCK\n",
       "IVISIDYYNMFTSIFTLCTMSVDRYIAVCHPVKALDFRTPRNAKIINVCNWILSSAIGLP\n",
       "VMFMATTKYRQGSIDCTLTF--SHPTWYWENLLKICVFIFAFIMPVLIITVCYGLMILRL\n",
       "KSVRMLSGSKEKDRNLRRITRMVLVVVAVFIVCWTPIHIYVIIKALVTIPETTFQTVSWH\n",
       "FCIALGYTNSCLNPVLYAFLDENFKRCFREFCIPTSSNIEQQNSTRIRQNTRDHPSTANT\n",
       "VDRTNHQRERRQK--SDW------------------------------------------\n",
       "--------\n",
       ">P35372-9\n",
       "------------------------------------------------------------\n",
       "---------------------------------MDSSAAPTNASNCTDALAYSSCSPAPS\n",
       "PGSWVNLSHLDGNLSDPCGPNRTDLGGRDSLCPPTGSPSMITAITIMALYSIVCVVGLFG\n",
       "NFLVMYVIVRYTKMKTATNIYIFNLALADALAT----STLPFQSVNYLMGTWPFGTILCK\n",
       "IVISIDYYNMFTSIFTLCTMSVDRYIAVCHPVKALDFRTPRNAKIINVCNWILSSAIGLP\n",
       "VMFMATTKYRQGSIDCTLTF--SHPTWYWENLLKICVFIFAFIMPVLIITVCYGLMILRL\n",
       "KSVRMLSGSKEKDRNLRRITRMVLVVVAVFIVCWTPIHIYVIIKALVTIPETTFQTVSWH\n",
       "FCIALGYTNSCLNPVLYAFLDENFKRCFREFCIPTSSNIEQQNSTRIRQNTRDHPSTANT\n",
       "VDRTNHQVELNLDC--------HCENAKPWPLSYNAGQSPFPFPGRV-------------\n",
       "--------\n",
       ">P35372-10\n",
       "MCLHRRVPSEETYSLDRFAQNPPLFPPPSLPASESRMAHAPLLQRCGAARTGFCKKQQEL\n",
       "WQRRKEAAEALGTRKVSVLLATSHSGARPAVSTMDSSAAPTNASNCTDALAYSSCSPAPS\n",
       "PGSWVNLSHLDGNLSDPCGPNRTDLGGRDSLCPPTGSPSMITAITIMALYSIVCVVGLFG\n",
       "NFLVMYVIVRYTKMKTATNIYIFNLALADALAT----STLPFQSVNYLMGTWPFGTILCK\n",
       "IVISIDYYNMFTSIFTLCTMSVDRYIAVCHPVKALDFRTPRNAKIINVCNWILSSAIGLP\n",
       "VMFMATTKYRQGSIDCTLTF--SHPTWYWENLLKICVFIFAFIMPVLIITVCYGLMILRL\n",
       "KSVRMLSGSKEKDRNLRRITRMVLVVVAVFIVCWTPIHIYVIIKALVTIPETTFQTVSWH\n",
       "FCIALGYTNSCLNPVLYAFLDENFKRCFREFCIPTSSNIEQQNSTRIRQNTRDHPSTANT\n",
       "VDRTNHQLENLEAETAPLP-----------------------------------------\n",
       "--------\n",
       ">P35372-11\n",
       "------------------------------------------------------------\n",
       "---------------------------------MDSSAAPTNASNCTDALAYSSCSPAPS\n",
       "PGSWVNLSHLDGNLSDPCGPNRTDLGGRDSLCPPTGSPSMITAITIMALYSIVCVVGLFG\n",
       "NFLVMYVIVRYTKMKTATNIYIFNLALADALAT----STLPFQSVNYLMGTWPFGTILCK\n",
       "IVISIDYYNMFTSIFTLCTMSVDRYIAVCHPVKALDFRTPRNAKIINVCNWILSSAIGLP\n",
       "VMFMATTKYRQGSIDCTLTF--SHPTWYWENLLKICVFIFAFIMPVLIITVCYGLMILRL\n",
       "KSVRMLSGSKEKDRNLRRITRMVLVVVAVFIVCWTPIHIYVIIKALVTIPETTFQTVSWH\n",
       "FCIALGYTNSCLNPVLYAFLDENFKRCFREFCIPTSSNIEQQNSTRIRQNTRDHPSTANT\n",
       "VDRTNHQS----------------------------------------------------\n",
       "--------\n",
       ">P35372-12\n",
       "------------------------------------------------------------\n",
       "------------------------------------------------------------\n",
       "------------------------------------------------------------\n",
       "-------------MKTATNIYIFNLALADALAT----STLPFQSVNYLMGTWPFGTILCK\n",
       "IVISIDYYNMFTSIFTLCTMSVDRYIAVCHPVKALDFRTPRNAKIINVCNWILSSAIGLP\n",
       "VMFMATTKYRQGSIDCTLTF--SHPTWYWENLLKICVFIFAFIMPVLIITVCYGLMILRL\n",
       "KSVRMLSGSKEKDRNLRRITRMVLVVVAVFIVCWTPIHIYVIIKALVTIPETTFQTVSWH\n",
       "FCIALGYTNSCLNPVLYAFLDENFKRCFREFCIPTSSNIEQQNSTRIRQNTRDHPSTANT\n",
       "VDRTNHQLENLEAETAPLP-----------------------------------------\n",
       "--------\n",
       ">P35372-13\n",
       "------------------------------------------------------------\n",
       "------------------------------------------------------------\n",
       "---------------------------------------------MMRAKSIS-------\n",
       "--TKAGKPSRYTKMKTATNIYIFNLALADALAT----STLPFQSVNYLMGTWPFGTILCK\n",
       "IVISIDYYNMFTSIFTLCTMSVDRYIAVCHPVKALDFRTPRNAKIINVCNWILSSAIGLP\n",
       "VMFMATTKYRQGSIDCTLTF--SHPTWYWENLLKICVFIFAFIMPVLIITVCYGLMILRL\n",
       "KSVRMLSGSKEKDRNLRRITRMVLVVVAVFIVCWTPIHIYVIIKALVTIPETTFQTVSWH\n",
       "FCIALGYTNSCLNPVLYAFLDENFKRCFREFCIPTSSNIEQQNSTRIRQNTRDHPSTANT\n",
       "VDRTNHQLENLEAETAPLP-----------------------------------------\n",
       "--------\n",
       ">P35372-14\n",
       "------------------------------------------------------------\n",
       "------------------------------------------------------------\n",
       "------------------------------------------------------------\n",
       "-------------MKTATNIYIFNLALADALAT----STLPFQSVNYLMGTWPFGTILCK\n",
       "IVISIDYYNMFTSIFTLCTMSVDRYIAVCHPVKALDFRTPRNAKIINVCNWILSSAIGLP\n",
       "VMFMATTKYRQGSIDCTLTF--SHPTWYWENLLKICVFIFAFIMPVLIITVCYGLMILRL\n",
       "KSVRMLSGSKEKDRNLRRITRMVLVVVAVFIVCWTPIHIYVIIKALVTIPETTFQTVSWH\n",
       "FCIALGYTNSCLNPVLYAFLDENFKRCFREFCIPTSSNIEQQNSTRIRQNTRDHPSTANT\n",
       "VDRTNHQNYYIIHRCCCNT-----------PLISQKPVLLWFCD----------------\n",
       "--------\n",
       ">P35372-15\n",
       "------------------------------------------------------------\n",
       "------------------------------------------------------------\n",
       "------------------------------------------------------------\n",
       "-------------MKTATNIYIFNLALADALAT----STLPFQSVNYLMGTWPFGTILCK\n",
       "IVISIDYYNMFTSIFTLCTMSVDRYIAVCHPVKALDFRTPRNAKIINVCNWILSSAIGLP\n",
       "VMFMATTKYRQGSIDCTLTF--SHPTWYWENLLKICVFIFAFIMPVLIITVCYGLMILRL\n",
       "KSVRMLSGSKEKDRNLRRITRMVLVVVAVFIVCWTPIHIYVIIKALVTIPETTFQTVSWH\n",
       "FCIALGYTNSCLNPVLYAFLDENFKRCFREFCIPTSSNIEQQNSTRIRQNTRDHPSTANT\n",
       "VDRTNHQVRSL-------------------------------------------------\n",
       "--------\n",
       ">P35372-16\n",
       "------------------------------------------------------------\n",
       "---------------------------------MDSSAAPTNASNCTDALAYSSCSPAPS\n",
       "PGSWVNLSHLDGNLSDPCGPNRTDLGGRDSLCPPTGSPSMITAITIMALYSIVCVVGLFG\n",
       "NFLVMYVIVRYSWFVIG-----------GPEGRRKQ------------RRL-GEDKR---\n",
       "-------------------------A----------------------------------\n",
       "--------RGCGEKG---------------------------------------------\n",
       "------------------------------------------------------------\n",
       "------------------------------------------------------------\n",
       "------------------------------------------------------------\n",
       "--------\n",
       ">P35372-17\n",
       "------------------------------------------------------------\n",
       "---------------------------------MDSSAAPTNASNCTDALAYSSCSPAPS\n",
       "PGSWVNLSHLDGNLSDPCGPNRTDLGGRDSLCPPTGSPSMITAITIMALYSIVCVVGLFG\n",
       "NFLVMYVIVSSSWF----------------------------------------------\n",
       "------------------------------------------------------------\n",
       "------------------------------------------------------------\n",
       "------------------------------------------------------------\n",
       "------------------------------------------------------------\n",
       "------------------------------------------------------------\n",
       "--------\n",
       ">P35372-18\n",
       "------------------------------------------------------------\n",
       "---------------------------------MDSSAAPTNASNCTDALAYSSCSPAPS\n",
       "PGSWVNLSHLDGNLSDPCGPNRTDLGGRDSLCPPTGSPSMITAITIMALYSIVCVVGLFG\n",
       "NFLVMYVIVRFHRLYTNI--LSSNLVLGKPAEDLCFHLRLHYASAHHYRVLWTDDLA---\n",
       "-------------------------PQECP-----------------HALWLQRKGQESS\n",
       "K----DHQDGAGGGGCVHRLLDSHSHLRHH------------------------------\n",
       "------------------------------------------------------------\n",
       "------------------------------------------------------------\n",
       "------------------------------------------------------------\n",
       "--------\n"
      ]
     },
     "metadata": {},
     "output_type": "display_data"
    }
   ],
   "source": [
    "with open('opioid_align.fasta') as f:\n",
    "    seqdata = f.read()\n",
    "Fasta(seqdata)"
   ]
  },
  {
   "cell_type": "markdown",
   "metadata": {},
   "source": [
    "We will next go through the currently published structures (as of 2021_05_31) of the $\\mu$ opioid receptor. The first of these structures is from"
   ]
  },
  {
   "cell_type": "code",
   "execution_count": 4,
   "metadata": {},
   "outputs": [
    {
     "data": {
      "application/vnd.jupyter.widget-view+json": {
       "model_id": "a4a73936456f42738724a517a166f92d",
       "version_major": 2,
       "version_minor": 0
      },
      "text/plain": [
       "NGLWidget()"
      ]
     },
     "metadata": {},
     "output_type": "display_data"
    }
   ],
   "source": [
    "widget1 = nglview.show_biopython(data)\n",
    "p = TrajectoryPlayer(widget1)\n",
    "#widget1.add_ball_and_stick()\n",
    "widget1\n"
   ]
  },
  {
   "cell_type": "code",
   "execution_count": 5,
   "metadata": {},
   "outputs": [
    {
     "data": {
      "application/vnd.jupyter.widget-view+json": {
       "model_id": "05ed480b027a47ec864500cf99c3e9e9",
       "version_major": 2,
       "version_minor": 0
      },
      "text/plain": [
       "NGLWidget()"
      ]
     },
     "metadata": {},
     "output_type": "display_data"
    }
   ],
   "source": [
    "widget2 = nglview.show_biopython(data1)\n",
    "p = TrajectoryPlayer(widget2)\n",
    "#widget2.add_ball_and_stick()\n",
    "widget2"
   ]
  },
  {
   "cell_type": "code",
   "execution_count": 6,
   "metadata": {},
   "outputs": [
    {
     "data": {
      "application/vnd.jupyter.widget-view+json": {
       "model_id": "c193d75c3b3140eaa91b0796eab43589",
       "version_major": 2,
       "version_minor": 0
      },
      "text/plain": [
       "NGLWidget()"
      ]
     },
     "metadata": {},
     "output_type": "display_data"
    }
   ],
   "source": [
    "widget3 = nglview.show_biopython(data2)\n",
    "p = TrajectoryPlayer(widget3)\n",
    "#widget3.add_ball_and_stick('PRO[224]')\n",
    "#widget3.add_representation(repr_type=\"licorice\", selection='227')\n",
    "widget3"
   ]
  },
  {
   "cell_type": "code",
   "execution_count": 7,
   "metadata": {},
   "outputs": [
    {
     "data": {
      "application/vnd.jupyter.widget-view+json": {
       "model_id": "65f02f73f1b44630843724bfbe9ec28c",
       "version_major": 2,
       "version_minor": 0
      },
      "text/plain": [
       "NGLWidget()"
      ]
     },
     "metadata": {},
     "output_type": "display_data"
    }
   ],
   "source": [
    "widget4 = nglview.show_biopython(data3)\n",
    "p = TrajectoryPlayer(widget4)\n",
    "#widget4.add_ball_and_stick()\n",
    "widget4"
   ]
  },
  {
   "cell_type": "markdown",
   "metadata": {},
   "source": [
    "We will explore some important important domains within the receptor that are thought to be key for bias. These regions serve as microwitches. The first we will examine the NPxxY motif."
   ]
  },
  {
   "cell_type": "code",
   "execution_count": 8,
   "metadata": {},
   "outputs": [
    {
     "data": {
      "application/vnd.jupyter.widget-view+json": {
       "model_id": "61a1f6011a084235ac761b248b688541",
       "version_major": 2,
       "version_minor": 0
      },
      "text/plain": [
       "NGLWidget()"
      ]
     },
     "metadata": {},
     "output_type": "display_data"
    }
   ],
   "source": [
    "widget5 = nglview.show_biopython(data)\n",
    "p = TrajectoryPlayer(widget5)\n",
    "#widget3.add_ball_and_stick('PRO[224]')\n",
    "widget5.add_representation(repr_type=\"licorice\", selection='332')\n",
    "widget5.add_representation(repr_type=\"licorice\", selection='333')\n",
    "widget5.add_representation(repr_type=\"licorice\", selection='336')\n",
    "widget5"
   ]
  },
  {
   "cell_type": "markdown",
   "metadata": {},
   "source": [
    "The next we will consider is the PIF motif"
   ]
  },
  {
   "cell_type": "code",
   "execution_count": 9,
   "metadata": {},
   "outputs": [
    {
     "data": {
      "application/vnd.jupyter.widget-view+json": {
       "model_id": "9a5bedf4d02749929a7abc028d5b30da",
       "version_major": 2,
       "version_minor": 0
      },
      "text/plain": [
       "NGLWidget()"
      ]
     },
     "metadata": {},
     "output_type": "display_data"
    }
   ],
   "source": [
    "widget6 = nglview.show_biopython(data)\n",
    "p = TrajectoryPlayer(widget6)\n",
    "#widget3.add_ball_and_stick('PRO[224]')\n",
    "widget6.add_representation(repr_type=\"licorice\", selection='244')\n",
    "widget6.add_representation(repr_type=\"licorice\", selection='155')\n",
    "widget6.add_representation(repr_type=\"licorice\", selection='289')\n",
    "widget6.add_representation(repr_type=\"licorice\", selection='293')\n",
    "widget6"
   ]
  },
  {
   "cell_type": "code",
   "execution_count": 10,
   "metadata": {},
   "outputs": [
    {
     "name": "stdout",
     "output_type": "stream",
     "text": [
      "/home/njm3/Molecular_Dynamics/MOR_Work/step5_input.pdb\n"
     ]
    }
   ],
   "source": [
    "pdb = '/home/njm3/Molecular_Dynamics/MOR_Work/step5_input.pdb'\n",
    "trr = '/home/njm3/Molecular_Dynamics/MOR_Work/step7_1.trr'\n",
    "print(pdb)"
   ]
  },
  {
   "cell_type": "code",
   "execution_count": 11,
   "metadata": {},
   "outputs": [
    {
     "data": {
      "application/vnd.jupyter.widget-view+json": {
       "model_id": "733a7d82b35042d881d37507e2568d5c",
       "version_major": 2,
       "version_minor": 0
      },
      "text/plain": [
       "NGLWidget()"
      ]
     },
     "metadata": {},
     "output_type": "display_data"
    }
   ],
   "source": [
    "widget = nglview.show_mdtraj(mdtraj.load(pdb))\n",
    "p = TrajectoryPlayer(widget)\n",
    "widget.add_ball_and_stick()\n",
    "p.spin = True\n",
    "def stop_spin():\n",
    "    p.spin = False\n",
    "    widget.close()\n",
    "#Timer(30, stop_spin).start()\n",
    "widget"
   ]
  },
  {
   "cell_type": "code",
   "execution_count": 12,
   "metadata": {},
   "outputs": [
    {
     "name": "stdout",
     "output_type": "stream",
     "text": [
      "First paper reference\n",
      "a.manglik,a.c.kruse,t.s.kobilka,f.s.thian,j.m.mathiesr.k.sunahara,l.pardo,w.i.weis,b.k.kobilka,s.granier crystal structure of the {mu}-opioid receptor bound tmorphinan antagonist. nature v. 485 321 2012 issn 0028-0836 22437502 10.1038/nature10954 \n"
     ]
    }
   ],
   "source": [
    "print(\"First paper reference\")\n",
    "print(data3.header[\"journal_reference\"])"
   ]
  },
  {
   "cell_type": "code",
   "execution_count": 13,
   "metadata": {},
   "outputs": [
    {
     "name": "stdout",
     "output_type": "stream",
     "text": [
      "Second paper reference\n",
      "w.huang,a.manglik,a.j.venkatakrishnan,t.laeremans, e.n.feinberg,a.l.sanborn,h.e.kato,k.e.livingston, t.s.thorsen,r.c.kling,s.granier,p.gmeiner,s.m.husbandj.r.traynor,w.i.weis,j.steyaert,r.o.dror,b.k.kobilka structural insights into mu-opioid receptor activationature v. 524 315 2015 essn 1476-4687 26245379 10.1038/nature14886 \n"
     ]
    }
   ],
   "source": [
    "print(\"Second paper reference\")\n",
    "print(data.header[\"journal_reference\"])"
   ]
  },
  {
   "cell_type": "code",
   "execution_count": 14,
   "metadata": {},
   "outputs": [
    {
     "name": "stdout",
     "output_type": "stream",
     "text": [
      "Third paper reference\n",
      "a.koehl,h.hu,s.maeda,y.zhang,q.qu,j.m.paggi,n.r.latord.hilger,r.dawson,h.matile,g.f.x.schertler,s.granier,w.i.weis,r.o.dror,a.manglik,g.skiniotis,b.k.kobilka structure of the mu-opioid receptor-giprotein complexnature v. 558 547 2018 issn 0028-0836 29899455 10.1038/s41586-018-0219-7 \n"
     ]
    }
   ],
   "source": [
    "print(\"Third paper reference\")\n",
    "print(data1.header[\"journal_reference\"])"
   ]
  },
  {
   "cell_type": "markdown",
   "metadata": {
    "tags": []
   },
   "source": [
    "# 02 - 2012 paper by Manglik et al."
   ]
  },
  {
   "cell_type": "markdown",
   "metadata": {},
   "source": [
    "## 2.1 - Background"
   ]
  },
  {
   "cell_type": "markdown",
   "metadata": {},
   "source": [
    "The $\\mu$-opioid receptor is the primary receptor responsible for the analgesic effects of classical analgesics such as morphine, heroin, and fentanyl, and as such represents one of the oldest drug targets. The model of operation for the MOR in recent years has been that it signals through two pathways: the G protein pathway and the $\\beta$-arrestin pathway. The idea was that the G protein pathway was responsible for the analgesic effects, euphoria, and physical dependence (cough suppression?) assocated with opioids, while the $\\beta$-arrestin pathway was responsible for some of the adverse effects of opioids such as respiratory depression, tolerance, and constipation. The G proteins that couple to the MOR are the of $G_{i/o}$ and $G_{z}$ families, and act through the inhibition of adenylyl cyclase (by the $G_{\\alpha}$ subunit) and the activation of GRIK channels (by the $G_{\\beta\\gamma}$ subunits). In contrast, $\\beta$-arrestin is involved in the downregulation and internalization of the receptor (after phosphorylation by GRK's such as GRK2), which leads to tolerance, and in addition it is thought to signal through the ERK pathway. \n",
    "\n",
    "MOR belongs to the $\\gamma$ subclass of class A GPCRs, and is closely related to the two other opioid receptors $\\kappa$-OR and $\\gamma$-OR. \n",
    "\n",
    "Exploring the chemical space for this recpetor has been an intense area of research, especially since the publication of the two XRC and two cryo-EM structures of the receptor. This is due to the important clinical implications of drug discovery here, since pain is often the cheif presenting complaint in the clinic, and millions of people suffer from chronic pain conditions. This has important financial implications, as the opioid industry is valued at around \\\\$35B, and the illicit opioid market has been estimated at \\\\$70B in 2009, which funds wars, crime, and terrorism. The opioid epidemic in america is the leading cause of overdose deaths and in europe, and it has contributed to the spread of AIDS worldwide.    \n",
    "\n",
    "The three pharmacological parameters of a drug that drive its clinical use are the efficacy, potency, and selectivity of the compound. Distinct pharmacophores have been thought to encode selectivity, efficacy, and potency, but this is not necessarily true in general, and the effects cannot be assigned to distinct structural regions of a drug in all cases. "
   ]
  },
  {
   "cell_type": "markdown",
   "metadata": {},
   "source": [
    "## 2.2 Results"
   ]
  },
  {
   "cell_type": "markdown",
   "metadata": {},
   "source": [
    "In the first paper, a murine MOR-T4 lysozyme fusion construct bound to the $\\beta$-FNA morphinan ligand was crystallized using an *in-meso* method **(look up what this is)**, data was collected from 25 crystals using XRC, and the structure was determined to a $2.8 \\ \\overset{\\circ}{\\mathrm{A}}$ resolution using molecular replacement.\n",
    "\n",
    "The crystal lattice for the MOR showed alternating aqueus and lipidic layers, with MOR dimers associating with interactions at TM 5 and 6, and some additional contact between TM 1 and 2 and H8. ***I wonder if the interactions at helix 6 are able to affect the ability of the receptor to undergo the outward motion of TM6 upon activation, which could decrease receptor activity in conditions prone to dimerization (does this occur in the cell or is this a byproduct of being packed together in the lattice?)***. The helix TM3 is connected to ECL2 through a disulfide bond between C$140^{3.25}$ and C$217$ using Ballesteros-Weinstein numbers."
   ]
  },
  {
   "cell_type": "code",
   "execution_count": 15,
   "metadata": {
    "tags": []
   },
   "outputs": [
    {
     "name": "stdout",
     "output_type": "stream",
     "text": [
      "BW X.50 numbered residues for MOR\n"
     ]
    },
    {
     "data": {
      "application/vnd.jupyter.widget-view+json": {
       "model_id": "a71b11d0559341c48a35e61601f860ac",
       "version_major": 2,
       "version_minor": 0
      },
      "text/plain": [
       "NGLWidget()"
      ]
     },
     "metadata": {},
     "output_type": "display_data"
    }
   ],
   "source": [
    "print(\"BW X.50 numbered residues for MOR\")\n",
    "widget7 = nglview.show_biopython(data3)\n",
    "p = TrajectoryPlayer(widget7)\n",
    "#widget3.add_ball_and_stick('PRO[224]')\n",
    "## numbers below correspond to GPCRdb numbers ##\n",
    "widget7.add_representation(repr_type=\"hyperball\", selection='86') ## N88 - TM1\n",
    "widget7.add_representation(repr_type=\"hyperball\", selection='114') ## D116 - TM2\n",
    "widget7.add_representation(repr_type=\"hyperball\", selection='165') ## R167 - TM3\n",
    "widget7.add_representation(repr_type=\"hyperball\", selection='192') ## W194 - TM4\n",
    "widget7.add_representation(repr_type=\"hyperball\", selection='244') ## P246 - TM5\n",
    "widget7.add_representation(repr_type=\"hyperball\", selection='295') ## P297 - TM6\n",
    "widget7.add_representation(repr_type=\"hyperball\", selection='333') ## P335 - TM7\n",
    "widget7"
   ]
  },
  {
   "cell_type": "code",
   "execution_count": 16,
   "metadata": {},
   "outputs": [
    {
     "name": "stdout",
     "output_type": "stream",
     "text": [
      "MOR TM3-ECL2 Disulfide Bond\n"
     ]
    },
    {
     "data": {
      "application/vnd.jupyter.widget-view+json": {
       "model_id": "eb930588b95b447c81eb6fe48464409f",
       "version_major": 2,
       "version_minor": 0
      },
      "text/plain": [
       "NGLWidget()"
      ]
     },
     "metadata": {},
     "output_type": "display_data"
    }
   ],
   "source": [
    "print(\"MOR TM3-ECL2 Disulfide Bond\")\n",
    "widget8 = nglview.show_biopython(data3)\n",
    "#p = TrajectoryPlayer(widget7)\n",
    "#widget3.add_ball_and_stick('PRO[224]')\n",
    "widget8.add_representation(repr_type=\"hyperball\", selection='140') ## C140 - TM3\n",
    "widget8.add_representation(repr_type=\"hyperball\", selection='217') # C217 - ECL2\n",
    "widget8"
   ]
  },
  {
   "cell_type": "markdown",
   "metadata": {},
   "source": [
    "The intracellular interface of MOR is similar to rhodopsin with respect to the placements of TM3, TM5, and TM6. This paper did not observe an ionic salt bridge between the DRY motif in TM3 and the cytosolic side of TM6, which is similar to what is seen with $\\beta$2AR. ***Note, this is Thought to be the inactive state structure***. The D and R residues in the DRY motif do form an ionic salt bridge, and D164 also engages in an polar interaction with R179 in ICL2."
   ]
  },
  {
   "cell_type": "code",
   "execution_count": 17,
   "metadata": {},
   "outputs": [
    {
     "name": "stdout",
     "output_type": "stream",
     "text": [
      "MOR DRY Motif\n"
     ]
    },
    {
     "data": {
      "application/vnd.jupyter.widget-view+json": {
       "model_id": "1b566378bbe544b2a2c1e1c55ee2dcfc",
       "version_major": 2,
       "version_minor": 0
      },
      "text/plain": [
       "NGLWidget()"
      ]
     },
     "metadata": {},
     "output_type": "display_data"
    }
   ],
   "source": [
    "print(\"MOR DRY Motif\")\n",
    "widget9 = nglview.show_biopython(data3)\n",
    "#p = TrajectoryPlayer(widget7)\n",
    "#widget3.add_ball_and_stick('PRO[224]')\n",
    "widget9.add_representation(repr_type=\"hyperball\", selection='164') ## D166 - TM3\n",
    "widget9.add_representation(repr_type=\"hyperball\", selection='165') ## R167 - TM3\n",
    "widget9.add_representation(repr_type=\"hyperball\", selection='166') ## Y168 - TM3\n",
    "widget9.add_representation(repr_type=\"hyperball\", selection='179') ## R181 - ICL2\n",
    "widget9"
   ]
  },
  {
   "cell_type": "markdown",
   "metadata": {},
   "source": [
    "Previous studies (Huang et al. *Functional role of a conserved motif in TM6 of the rat $\\mathit{\\mu}$-opioid receptor: Constitutively active and inactive receptors result from substitutions of Thr6.34(279) with Lys and Asp.* **Biochemistry** 2001) have shown that the replacement of T6.34 with K results in a constitutively active receptor. This may be because a polar interaction between T6.34 and R165(3.50) from the DRY motif stabilizes the receptor in the inactive state. ***This may imply that the TM3-TM6 distance can serve as an indicator of receptor activation*** "
   ]
  },
  {
   "cell_type": "code",
   "execution_count": 18,
   "metadata": {},
   "outputs": [
    {
     "name": "stdout",
     "output_type": "stream",
     "text": [
      "MOR DRY-Thr 6.34 interaction\n"
     ]
    },
    {
     "data": {
      "application/vnd.jupyter.widget-view+json": {
       "model_id": "79b9658e0d9e479ba5f9c8388a18d085",
       "version_major": 2,
       "version_minor": 0
      },
      "text/plain": [
       "NGLWidget()"
      ]
     },
     "metadata": {},
     "output_type": "display_data"
    }
   ],
   "source": [
    "print(\"MOR DRY-Thr 6.34 interaction\")\n",
    "widget10 = nglview.show_biopython(data3)\n",
    "#p = TrajectoryPlayer(widget7)\n",
    "#widget3.add_ball_and_stick('PRO[224]')\n",
    "widget10.add_representation(repr_type=\"hyperball\", selection='279') ## T281 - TM6\n",
    "widget10.add_representation(repr_type=\"hyperball\", selection='165') ## R167 - TM3\n",
    "widget10"
   ]
  },
  {
   "cell_type": "markdown",
   "metadata": {},
   "source": [
    "In most structures of GPCRs published prior to this 2012 paper, the ligand binding pocket is buried  within the transmembrane helices and covered by ECL2. ***Depth of binding in the pocket may explain kinetic effects like dissociation rates***  In contrast, this MOR structure showed $\\beta$-FNA binding pocket largely exposed to the surface, which could explain the short dissociation half lives of many potent opioids. MOR is similar to other peptide GPCRs like CXCR4 (the closest published structure at this time with an RMSD of $1.35 \\ \\overset{\\circ}{\\mathrm{A}}$; $\\beta$2AR's RMSD is $1.52 \\ \\overset{\\circ}{\\mathrm{A}}$) and $\\beta$-FNA binds deeper into the pocket than small molecules at the CXCR4, but it has a siilar position to ligands at $\\beta$2AR. \n",
    "\n",
    "There are 14 residues within $4 \\ \\overset{\\circ}{\\mathrm{A}}$ of $\\beta$-FNA, nine of which directly interact with the ligand and are conserved at $\\kappa$-OR and $\\delta$-OR; these are shown below:"
   ]
  },
  {
   "cell_type": "code",
   "execution_count": 19,
   "metadata": {},
   "outputs": [
    {
     "name": "stdout",
     "output_type": "stream",
     "text": [
      "MOR Binding Pocket Interactions\n"
     ]
    },
    {
     "data": {
      "application/vnd.jupyter.widget-view+json": {
       "model_id": "be1e63c09f2f4eb7924072666219d30e",
       "version_major": 2,
       "version_minor": 0
      },
      "text/plain": [
       "NGLWidget()"
      ]
     },
     "metadata": {},
     "output_type": "display_data"
    }
   ],
   "source": [
    "print(\"MOR Binding Pocket Interactions\")\n",
    "widget11 = nglview.show_biopython(data3)\n",
    "#p = TrajectoryPlayer(widget7)\n",
    "#widget3.add_ball_and_stick('PRO[224]')\n",
    "widget11.add_representation(repr_type=\"hyperball\", selection='147') ## D3.32 - John suspects this must be present in most/all binding poses of docked ligands\n",
    "widget11.add_representation(repr_type=\"hyperball\", selection='148') ## Y3.33\n",
    "widget11.add_representation(repr_type=\"hyperball\", selection='151') ## M3.36\n",
    "widget11.add_representation(repr_type=\"hyperball\", selection='233') ## K5.39\n",
    "widget11.add_representation(repr_type=\"hyperball\", selection='293') ## W6.48 - may interact with PIF motif\n",
    "widget11.add_representation(repr_type=\"hyperball\", selection='296') ## I6.51\n",
    "widget11.add_representation(repr_type=\"hyperball\", selection='297') ## H6.52\n",
    "widget11.add_representation(repr_type=\"hyperball\", selection='300') ## V6.55\n",
    "widget11.add_representation(repr_type=\"hyperball\", selection='326') ## Y7.43\n",
    "widget11"
   ]
  },
  {
   "cell_type": "markdown",
   "metadata": {},
   "source": [
    "The comparison of this binding pocket with $\\delta$-OR shows that three sites of differences are K303(6.58), E229(ECL2), and W318(7.35) which are Asp, Trp, and Leu at $\\delta$. The tryptophan residue is involved in some selectivity for MOR, as steric clashes with it exclude some ligands from the binding pocket that are able to bind to $\\delta$ because there is only a Leu there. Creating this W318L mutation in $\\mu$ increases its affinity for ligands that are usually $\\delta$ selective. \n",
    "\n",
    "The endogenous ligands for MOR that seem to have the greatest affinity and selectivity for MOR are the endomorphins 1 and 2. The $\\mu$ selective synthetic peptide $[D-Ala2,N-MePhe4,Gly-ol5]$ enkephalin (DAMGO) is suggested by mutagenesis to occupy a similar site as $\\beta$-FNA, but also extend beyond it as well. When the residues H297(6.52), K303(6.58), W318(7.35), and H319(7.36) are mutated, the binding of DAMGO is impaired. Of note, peptides are able to make both polar and non-polar contacts with the receptor binding site because of the lack of a highly charged surface, unlike CXCR4.  "
   ]
  },
  {
   "cell_type": "markdown",
   "metadata": {},
   "source": [
    "With regard to the oligomerizatoin of  $\\mu$-OR...."
   ]
  },
  {
   "cell_type": "markdown",
   "metadata": {},
   "source": [
    "## 2.3 - Methods"
   ]
  },
  {
   "cell_type": "markdown",
   "metadata": {},
   "source": [
    "# 3 - 2015 paper by Huang et al. "
   ]
  },
  {
   "cell_type": "markdown",
   "metadata": {},
   "source": [
    "In the second paper, the MOR structure was captured with XRC, and was stabilized using camel derived antibody fragments (nanobodies) that were G protein mimetic "
   ]
  },
  {
   "cell_type": "code",
   "execution_count": null,
   "metadata": {},
   "outputs": [],
   "source": []
  },
  {
   "cell_type": "markdown",
   "metadata": {},
   "source": [
    "# Notes on Measure Theoretic Probability"
   ]
  },
  {
   "cell_type": "markdown",
   "metadata": {},
   "source": [
    "> **Definition** - *Boolean Algebra*\n",
    "\n",
    ">A concrete Boolean algebra (or just algebra for short) over a set $\\Omega$ is a collection of subsets of $\\Omega$, $\\Sigma\\subseteq 2^{\\Omega}$, such that \n",
    ">1. $\\Omega\\in\\Sigma$ \n",
    ">2. $\\mathcal{F}\\in\\Sigma$ $\\Rightarrow$ $\\mathcal{F}^{c}:=\\Omega/\\mathcal{F}\\in\\Sigma$\n",
    ">3. $\\mathcal{F},\\mathcal{G}\\in\\Sigma$ $\\Rightarrow$ $\\mathcal{F}\\cup\\mathcal{G}\\in\\Sigma$\n",
    "      "
   ]
  },
  {
   "cell_type": "markdown",
   "metadata": {},
   "source": [
    "Consequences of the definition of an algebra:\n",
    "\n",
    "1. By De Morgan's laws, since condition 2 implies $\\mathcal{F}^{c},\\mathcal{G}^{c}\\in\\Sigma$, then condition 3 implies that $[\\mathcal{F}^{c}\\cup\\mathcal{G}^{c}\\in\\Sigma]$ $\\Rightarrow$ $(\\mathcal{F}^{c}\\cup\\mathcal{G}^{c})^{c}=\\mathcal{F}\\cap\\mathcal{G}\\in\\sigma$\n",
    "\n",
    "2. The combination of conditions 1 and 2 imply that $\\Omega^{c}=\\emptyset\\in\\Sigma$"
   ]
  }
 ],
 "metadata": {
  "interpreter": {
   "hash": "752f92e4d4c588cdfa72e44a86ee9f8db3bacec94ee9e96a5ebe85d37c0bb04d"
  },
  "kernelspec": {
   "display_name": "Python 3.8.5 64-bit ('base': conda)",
   "name": "python3"
  },
  "language_info": {
   "codemirror_mode": {
    "name": "ipython",
    "version": 3
   },
   "file_extension": ".py",
   "mimetype": "text/x-python",
   "name": "python",
   "nbconvert_exporter": "python",
   "pygments_lexer": "ipython3",
   "version": "3.8.5"
  },
  "metadata": {
   "interpreter": {
    "hash": "752f92e4d4c588cdfa72e44a86ee9f8db3bacec94ee9e96a5ebe85d37c0bb04d"
   }
  }
 },
 "nbformat": 4,
 "nbformat_minor": 5
}