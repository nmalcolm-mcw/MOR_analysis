{
 "cells": [
  {
   "cell_type": "markdown",
   "id": "2cda2d09",
   "metadata": {
    "tags": []
   },
   "source": [
    "# 01 - Humanized MOR model 10ns unbiased MD run data analysis"
   ]
  },
  {
   "cell_type": "markdown",
   "id": "cd0f6882",
   "metadata": {},
   "source": [
    "The goal of this project is to discover features of the $\\mu$ opioid receptor and the ligands that bind to it that lead to specific types of agonism, such as biased agonism, partial agonism, or superagonism. "
   ]
  },
  {
   "cell_type": "markdown",
   "id": "d4c9a43b",
   "metadata": {
    "tags": []
   },
   "source": [
    "We will start by loading the modules we will need to analyze our trajectory data, and collecting some of the files we will need throughout this notebook.\n",
    "\n",
    "$$ \\mathbf{F}=m\\mathbf{\\ddot{x}} $$\n",
    "\n",
    "$$ \\int_{0}^{\\infty}f(\\mathbf{x})\\mathrm{d}x $$\n"
   ]
  },
  {
   "cell_type": "code",
   "execution_count": 1,
   "id": "4889f9d1",
   "metadata": {
    "tags": []
   },
   "outputs": [
    {
     "data": {
      "application/vnd.jupyter.widget-view+json": {
       "model_id": "0038c5e5389b483c8a15733d0ea443a8",
       "version_major": 2,
       "version_minor": 0
      },
      "text/plain": []
     },
     "metadata": {},
     "output_type": "display_data"
    },
    {
     "name": "stdout",
     "output_type": "stream",
     "text": [
      "Structure exists: './pdb5c1m.ent' \n",
      "Structure exists: './pdb6dde.ent' \n",
      "Structure exists: './pdb6ddf.ent' \n",
      "Structure exists: './pdb4dkl.ent' \n"
     ]
    }
   ],
   "source": [
    "%matplotlib inline\n",
    "import matplotlib.pyplot as plt\n",
    "import numpy as np\n",
    "import mdshare\n",
    "import pyemma\n",
    "import pickle\n",
    "from Bio.PDB import *\n",
    "from Bio.PDB.MMCIFParser import MMCIFParser\n",
    "parser = MMCIFParser()\n",
    "import nglview\n",
    "import mdtraj\n",
    "import ipywidgets\n",
    "from threading import Timer\n",
    "from nglview.player import TrajectoryPlayer\n",
    "pdbl = PDBList()\n",
    "pdbl.retrieve_pdb_file('5C1M', pdir = '.', file_format = 'pdb')\n",
    "parser = PDBParser(PERMISSIVE = True, QUIET = True) \n",
    "data = parser.get_structure(\"5c1m\",\"pdb5c1m.ent\")\n",
    "pdbl.retrieve_pdb_file('6DDE', pdir = '.', file_format = 'pdb')\n",
    "data1 = parser.get_structure(\"6dde\",\"pdb6dde.ent\")\n",
    "pdbl.retrieve_pdb_file('6DDF', pdir = '.', file_format = 'pdb')\n",
    "data2 = parser.get_structure(\"6ddf\",\"pdb6ddf.ent\")\n",
    "pdbl.retrieve_pdb_file('4DKL', pdir = '.', file_format = 'pdb')\n",
    "data3 = parser.get_structure(\"4dkl\",\"pdb4dkl.ent\")"
   ]
  },
  {
   "cell_type": "code",
   "execution_count": 2,
   "id": "6989a4a1",
   "metadata": {
    "tags": []
   },
   "outputs": [],
   "source": [
    "from IPython.display import display\n",
    "def Fasta(seqdata=''):\n",
    "    bundle = {}\n",
    "    bundle['application/vnd.fasta.fasta'] = seqdata\n",
    "    bundle['text/plain'] = seqdata\n",
    "    display(bundle, raw=True)\n"
   ]
  },
  {
   "cell_type": "code",
   "execution_count": 3,
   "id": "166bb164",
   "metadata": {},
   "outputs": [
    {
     "data": {
      "application/vnd.fasta.fasta": ">P35372\n------------------------------------------------------------\n---------------------------------MDSSAAPTNASNCTDALAYSSCSPAPS\nPGSWVNLSHLDGNLSDPCGPNRTDLGGRDSLCPPTGSPSMITAITIMALYSIVCVVGLFG\nNFLVMYVIVRYTKMKTATNIYIFNLALADALAT----STLPFQSVNYLMGTWPFGTILCK\nIVISIDYYNMFTSIFTLCTMSVDRYIAVCHPVKALDFRTPRNAKIINVCNWILSSAIGLP\nVMFMATTKYRQGSIDCTLTF--SHPTWYWENLLKICVFIFAFIMPVLIITVCYGLMILRL\nKSVRMLSGSKEKDRNLRRITRMVLVVVAVFIVCWTPIHIYVIIKALVTIPETTFQTVSWH\nFCIALGYTNSCLNPVLYAFLDENFKRCFREFCIPTSSNIEQQNSTRIRQNTRDHPSTANT\nVDRTNHQLENLEAETAPLP-----------------------------------------\n--------\n>P35372-2\n------------------------------------------------------------\n---------------------------------MDSSAAPTNASNCTDALAYSSCSPAPS\nPGSWVNLSHLDGNLSDPCGPNRTDLGGRDSLCPPTGSPSMITAITIMALYSIVCVVGLFG\nNFLVMYVIVRYTKMKTATNIYIFNLALADALAT----STLPFQSVNYLMGTWPFGTILCK\nIVISIDYYNMFTSIFTLCTMSVDRYIAVCHPVKALDFRTPRNAKIINVCNWILSSAIGLP\nVMFMATTKYRQGSIDCTLTF--SHPTWYWENLLKICVFIFAFIMPVLIITVCYGLMILRL\nKSVRMLSGSKEKDRNLRRITRMVLVVVAVFIVCWTPIHIYVIIKALVTIPETTFQTVSWH\nFCIALGYTNSCLNPVLYAFLDENFKRCFREFCIPTSSNIEQQNSTRIRQNTRDHPSTANT\nVDRTNHQVRSL-------------------------------------------------\n--------\n>P35372-3\n------------------------------------------------------------\n---------------------------------MDSSAAPTNASNCTDALAYSSCSPAPS\nPGSWVNLSHLDGNLSDPCGPNRTDLGGRDSLCPPTGSPSMITAITIMALYSIVCVVGLFG\nNFLVMYVIVRYTKMKTATNIYIFNLALADALAT----STLPFQSVNYLMGTWPFGTILCK\nIVISIDYYNMFTSIFTLCTMSVDRYIAVCHPVKALDFRTPRNAKIINVCNWILSSAIGLP\nVMFMATTKYRQGSIDCTLTF--SHPTWYWENLLKICVFIFAFIMPVLIITVCYGLMILRL\nKSVRMLSGSKEKDRNLRRITRMVLVVVAVFIVCWTPIHIYVIIKALVTIPETTFQTVSWH\nFCIALGYTNSCLNPVLYAFLDENFKRCFREFCIPTSSNIEQQNSTRIRQNTRDHPSTANT\nVDRTNHQCLPIPSL-SCWALEQGCLVVYPGPL--QGPLVRYDLPAILHSSCLRGNTAPSP\nSGGAFLLS\n>P35372-4\n------------------------------------------------------------\n---------------------------------MDSSAAPTNASNCTDALAYSSCSPAPS\nPGSWVNLSHLDGNLSDPCGPNRTDLGGRDSLCPPTGSPSMITAITIMALYSIVCVVGLFG\nNFLVMYVIVRYTKMKTATNIYIFNLALADALAT----STLPFQSVNYLMGTWPFGTILCK\nIVISIDYYNMFTSIFTLCTMSVDRYIAVCHPVKALDFRTPRNAKIINVCNWILSSAIGLP\nVMFMATTKYRQGSIDCTLTF--SHPTWYWENLLKICVFIFAFIMPVLIITVCYGLMILRL\nKSVRMLSGSKEKDRNLRRITRMVLVVVAVFIVCWTPIHIYVIIKALVTIPETTFQTVSWH\nFCIALGYTNSCLNPVLYAFLDENFKRCFREFCIPTSSNIEQQNSTRIRQNTRDHPSTANT\nVDRTNHQGPPAKFV-ADQLAGSS-------------------------------------\n--------\n>P35372-5\n------------------------------------------------------------\n---------------------------------MDSSAAPTNASNCTDALAYSSCSPAPS\nPGSWVNLSHLDGNLSDPCGPNRTDLGGRDSLCPPTGSPSMITAITIMALYSIVCVVGLFG\nNFLVMYVIVRYTKMKTATNIYIFNLALADALAT----STLPFQSVNYLMGTWPFGTILCK\nIVISIDYYNMFTSIFTLCTMSVDRYIAVCHPVKALDFRTPRNAKIINVCNWILSSAIGLP\nVMFMATTKYRQGSIDCTLTF--SHPTWYWENLLKICVFIFAFIMPVLIITVCYGLMILRL\nKSVRMLSGSKEKDRNLRRITRMVLVVVAVFIVCWTPIHIYVIIKALVTIPETTFQTVSWH\nFCIALGYTNSCLNPVLYAFLDENFKRCFREFCIPTSSNIEQQNSTRIRQNTRDHPSTANT\nVDRTNHQPPLAVSM-AQI------FTRYPPPT--HREK-----------TCNDYMKR---\n--------\n>P35372-6\n------------------------------------------------------------\n---------------------------------MDSSAAPTNASNCTDALAYSSCSPAPS\nPGSWVNLSHLDGNLSDPCGPNRTDLGGRDSLCPPTGSPSMITAITIMALYSIVCVVGLFG\nNFLVMYVIVRYTKMKTATNIYIFNLALADALAT----STLPFQSVNYLMGTWPFGTILCK\nIVISIDYYNMFTSIFTLCTMSVDRYIAVCHPVKALDFRTPRNAKIINVCNWILSSAIGLP\nVMFMATTKYRQGSIDCTLTF--SHPTWYWENLLKICVFIFAFIMPVLIITVCYGLMILRL\nKSVRMLSGSKEKDRNLRRITRMVLVVVAVFIVCWTPIHIYVIIKALVTIPETTFQTVSWH\nFCIALGYTNSCLNPVLYAFLDENFKRCFREFCIPTSSNIEQQNSTRIRQNTRDHPSTANT\nVDRTNHQIRDPISNLPRVSVF---------------------------------------\n--------\n>P35372-7\n------------------------------------------------------------\n---------------------------------MDSSAAPTNASNCTDALAYSSCSPAPS\nPGSWVNLSHLDGNLSDPCGPNRTDLGGRDSLCPPTGSPSMITAITIMALYSIVCVVGLFG\nNFLVMYVIVRYTKMKTATNIYIFNLALADALAT----STLPFQSVNYLMGTWPFGTILCK\nIVISIDYYNMFTSIFTLCTMSVDRYIAVCHPVKALDFRTPRNAKIINVCNWILSSAIGLP\nVMFMATTKYRQGSIDCTLTF--SHPTWYWENLLKICVFIFAFIMPVLIITVCYGLMILRL\nKSVRMLSGSKEKDRNLRRITRMVLVVVAVFIVCWTPIHIYVIIKALVTIPETTFQTVSWH\nFCIALGYTNSCLNPVLYAFLDENFKRCFREFCIPTSSNIEQQNSTRIRQNTRDHPSTANT\nVDRTNHQKIDLFQKSSLLNCEH---------T--KG------------------------\n--------\n>P35372-8\n------------------------------------------------------------\n---------------------------------MDSSAAPTNASNCTDALAYSSCSPAPS\nPGSWVNLSHLDGNLSDPCGPNRTDLGGRDSLCPPTGSPSMITAITIMALYSIVCVVGLFG\nNFLVMYVIVRYTKMKTATNIYIFNLALADALAT----STLPFQSVNYLMGTWPFGTILCK\nIVISIDYYNMFTSIFTLCTMSVDRYIAVCHPVKALDFRTPRNAKIINVCNWILSSAIGLP\nVMFMATTKYRQGSIDCTLTF--SHPTWYWENLLKICVFIFAFIMPVLIITVCYGLMILRL\nKSVRMLSGSKEKDRNLRRITRMVLVVVAVFIVCWTPIHIYVIIKALVTIPETTFQTVSWH\nFCIALGYTNSCLNPVLYAFLDENFKRCFREFCIPTSSNIEQQNSTRIRQNTRDHPSTANT\nVDRTNHQRERRQK--SDW------------------------------------------\n--------\n>P35372-9\n------------------------------------------------------------\n---------------------------------MDSSAAPTNASNCTDALAYSSCSPAPS\nPGSWVNLSHLDGNLSDPCGPNRTDLGGRDSLCPPTGSPSMITAITIMALYSIVCVVGLFG\nNFLVMYVIVRYTKMKTATNIYIFNLALADALAT----STLPFQSVNYLMGTWPFGTILCK\nIVISIDYYNMFTSIFTLCTMSVDRYIAVCHPVKALDFRTPRNAKIINVCNWILSSAIGLP\nVMFMATTKYRQGSIDCTLTF--SHPTWYWENLLKICVFIFAFIMPVLIITVCYGLMILRL\nKSVRMLSGSKEKDRNLRRITRMVLVVVAVFIVCWTPIHIYVIIKALVTIPETTFQTVSWH\nFCIALGYTNSCLNPVLYAFLDENFKRCFREFCIPTSSNIEQQNSTRIRQNTRDHPSTANT\nVDRTNHQVELNLDC--------HCENAKPWPLSYNAGQSPFPFPGRV-------------\n--------\n>P35372-10\nMCLHRRVPSEETYSLDRFAQNPPLFPPPSLPASESRMAHAPLLQRCGAARTGFCKKQQEL\nWQRRKEAAEALGTRKVSVLLATSHSGARPAVSTMDSSAAPTNASNCTDALAYSSCSPAPS\nPGSWVNLSHLDGNLSDPCGPNRTDLGGRDSLCPPTGSPSMITAITIMALYSIVCVVGLFG\nNFLVMYVIVRYTKMKTATNIYIFNLALADALAT----STLPFQSVNYLMGTWPFGTILCK\nIVISIDYYNMFTSIFTLCTMSVDRYIAVCHPVKALDFRTPRNAKIINVCNWILSSAIGLP\nVMFMATTKYRQGSIDCTLTF--SHPTWYWENLLKICVFIFAFIMPVLIITVCYGLMILRL\nKSVRMLSGSKEKDRNLRRITRMVLVVVAVFIVCWTPIHIYVIIKALVTIPETTFQTVSWH\nFCIALGYTNSCLNPVLYAFLDENFKRCFREFCIPTSSNIEQQNSTRIRQNTRDHPSTANT\nVDRTNHQLENLEAETAPLP-----------------------------------------\n--------\n>P35372-11\n------------------------------------------------------------\n---------------------------------MDSSAAPTNASNCTDALAYSSCSPAPS\nPGSWVNLSHLDGNLSDPCGPNRTDLGGRDSLCPPTGSPSMITAITIMALYSIVCVVGLFG\nNFLVMYVIVRYTKMKTATNIYIFNLALADALAT----STLPFQSVNYLMGTWPFGTILCK\nIVISIDYYNMFTSIFTLCTMSVDRYIAVCHPVKALDFRTPRNAKIINVCNWILSSAIGLP\nVMFMATTKYRQGSIDCTLTF--SHPTWYWENLLKICVFIFAFIMPVLIITVCYGLMILRL\nKSVRMLSGSKEKDRNLRRITRMVLVVVAVFIVCWTPIHIYVIIKALVTIPETTFQTVSWH\nFCIALGYTNSCLNPVLYAFLDENFKRCFREFCIPTSSNIEQQNSTRIRQNTRDHPSTANT\nVDRTNHQS----------------------------------------------------\n--------\n>P35372-12\n------------------------------------------------------------\n------------------------------------------------------------\n------------------------------------------------------------\n-------------MKTATNIYIFNLALADALAT----STLPFQSVNYLMGTWPFGTILCK\nIVISIDYYNMFTSIFTLCTMSVDRYIAVCHPVKALDFRTPRNAKIINVCNWILSSAIGLP\nVMFMATTKYRQGSIDCTLTF--SHPTWYWENLLKICVFIFAFIMPVLIITVCYGLMILRL\nKSVRMLSGSKEKDRNLRRITRMVLVVVAVFIVCWTPIHIYVIIKALVTIPETTFQTVSWH\nFCIALGYTNSCLNPVLYAFLDENFKRCFREFCIPTSSNIEQQNSTRIRQNTRDHPSTANT\nVDRTNHQLENLEAETAPLP-----------------------------------------\n--------\n>P35372-13\n------------------------------------------------------------\n------------------------------------------------------------\n---------------------------------------------MMRAKSIS-------\n--TKAGKPSRYTKMKTATNIYIFNLALADALAT----STLPFQSVNYLMGTWPFGTILCK\nIVISIDYYNMFTSIFTLCTMSVDRYIAVCHPVKALDFRTPRNAKIINVCNWILSSAIGLP\nVMFMATTKYRQGSIDCTLTF--SHPTWYWENLLKICVFIFAFIMPVLIITVCYGLMILRL\nKSVRMLSGSKEKDRNLRRITRMVLVVVAVFIVCWTPIHIYVIIKALVTIPETTFQTVSWH\nFCIALGYTNSCLNPVLYAFLDENFKRCFREFCIPTSSNIEQQNSTRIRQNTRDHPSTANT\nVDRTNHQLENLEAETAPLP-----------------------------------------\n--------\n>P35372-14\n------------------------------------------------------------\n------------------------------------------------------------\n------------------------------------------------------------\n-------------MKTATNIYIFNLALADALAT----STLPFQSVNYLMGTWPFGTILCK\nIVISIDYYNMFTSIFTLCTMSVDRYIAVCHPVKALDFRTPRNAKIINVCNWILSSAIGLP\nVMFMATTKYRQGSIDCTLTF--SHPTWYWENLLKICVFIFAFIMPVLIITVCYGLMILRL\nKSVRMLSGSKEKDRNLRRITRMVLVVVAVFIVCWTPIHIYVIIKALVTIPETTFQTVSWH\nFCIALGYTNSCLNPVLYAFLDENFKRCFREFCIPTSSNIEQQNSTRIRQNTRDHPSTANT\nVDRTNHQNYYIIHRCCCNT-----------PLISQKPVLLWFCD----------------\n--------\n>P35372-15\n------------------------------------------------------------\n------------------------------------------------------------\n------------------------------------------------------------\n-------------MKTATNIYIFNLALADALAT----STLPFQSVNYLMGTWPFGTILCK\nIVISIDYYNMFTSIFTLCTMSVDRYIAVCHPVKALDFRTPRNAKIINVCNWILSSAIGLP\nVMFMATTKYRQGSIDCTLTF--SHPTWYWENLLKICVFIFAFIMPVLIITVCYGLMILRL\nKSVRMLSGSKEKDRNLRRITRMVLVVVAVFIVCWTPIHIYVIIKALVTIPETTFQTVSWH\nFCIALGYTNSCLNPVLYAFLDENFKRCFREFCIPTSSNIEQQNSTRIRQNTRDHPSTANT\nVDRTNHQVRSL-------------------------------------------------\n--------\n>P35372-16\n------------------------------------------------------------\n---------------------------------MDSSAAPTNASNCTDALAYSSCSPAPS\nPGSWVNLSHLDGNLSDPCGPNRTDLGGRDSLCPPTGSPSMITAITIMALYSIVCVVGLFG\nNFLVMYVIVRYSWFVIG-----------GPEGRRKQ------------RRL-GEDKR---\n-------------------------A----------------------------------\n--------RGCGEKG---------------------------------------------\n------------------------------------------------------------\n------------------------------------------------------------\n------------------------------------------------------------\n--------\n>P35372-17\n------------------------------------------------------------\n---------------------------------MDSSAAPTNASNCTDALAYSSCSPAPS\nPGSWVNLSHLDGNLSDPCGPNRTDLGGRDSLCPPTGSPSMITAITIMALYSIVCVVGLFG\nNFLVMYVIVSSSWF----------------------------------------------\n------------------------------------------------------------\n------------------------------------------------------------\n------------------------------------------------------------\n------------------------------------------------------------\n------------------------------------------------------------\n--------\n>P35372-18\n------------------------------------------------------------\n---------------------------------MDSSAAPTNASNCTDALAYSSCSPAPS\nPGSWVNLSHLDGNLSDPCGPNRTDLGGRDSLCPPTGSPSMITAITIMALYSIVCVVGLFG\nNFLVMYVIVRFHRLYTNI--LSSNLVLGKPAEDLCFHLRLHYASAHHYRVLWTDDLA---\n-------------------------PQECP-----------------HALWLQRKGQESS\nK----DHQDGAGGGGCVHRLLDSHSHLRHH------------------------------\n------------------------------------------------------------\n------------------------------------------------------------\n------------------------------------------------------------\n--------\n",
      "text/plain": [
       ">P35372\n",
       "------------------------------------------------------------\n",
       "---------------------------------MDSSAAPTNASNCTDALAYSSCSPAPS\n",
       "PGSWVNLSHLDGNLSDPCGPNRTDLGGRDSLCPPTGSPSMITAITIMALYSIVCVVGLFG\n",
       "NFLVMYVIVRYTKMKTATNIYIFNLALADALAT----STLPFQSVNYLMGTWPFGTILCK\n",
       "IVISIDYYNMFTSIFTLCTMSVDRYIAVCHPVKALDFRTPRNAKIINVCNWILSSAIGLP\n",
       "VMFMATTKYRQGSIDCTLTF--SHPTWYWENLLKICVFIFAFIMPVLIITVCYGLMILRL\n",
       "KSVRMLSGSKEKDRNLRRITRMVLVVVAVFIVCWTPIHIYVIIKALVTIPETTFQTVSWH\n",
       "FCIALGYTNSCLNPVLYAFLDENFKRCFREFCIPTSSNIEQQNSTRIRQNTRDHPSTANT\n",
       "VDRTNHQLENLEAETAPLP-----------------------------------------\n",
       "--------\n",
       ">P35372-2\n",
       "------------------------------------------------------------\n",
       "---------------------------------MDSSAAPTNASNCTDALAYSSCSPAPS\n",
       "PGSWVNLSHLDGNLSDPCGPNRTDLGGRDSLCPPTGSPSMITAITIMALYSIVCVVGLFG\n",
       "NFLVMYVIVRYTKMKTATNIYIFNLALADALAT----STLPFQSVNYLMGTWPFGTILCK\n",
       "IVISIDYYNMFTSIFTLCTMSVDRYIAVCHPVKALDFRTPRNAKIINVCNWILSSAIGLP\n",
       "VMFMATTKYRQGSIDCTLTF--SHPTWYWENLLKICVFIFAFIMPVLIITVCYGLMILRL\n",
       "KSVRMLSGSKEKDRNLRRITRMVLVVVAVFIVCWTPIHIYVIIKALVTIPETTFQTVSWH\n",
       "FCIALGYTNSCLNPVLYAFLDENFKRCFREFCIPTSSNIEQQNSTRIRQNTRDHPSTANT\n",
       "VDRTNHQVRSL-------------------------------------------------\n",
       "--------\n",
       ">P35372-3\n",
       "------------------------------------------------------------\n",
       "---------------------------------MDSSAAPTNASNCTDALAYSSCSPAPS\n",
       "PGSWVNLSHLDGNLSDPCGPNRTDLGGRDSLCPPTGSPSMITAITIMALYSIVCVVGLFG\n",
       "NFLVMYVIVRYTKMKTATNIYIFNLALADALAT----STLPFQSVNYLMGTWPFGTILCK\n",
       "IVISIDYYNMFTSIFTLCTMSVDRYIAVCHPVKALDFRTPRNAKIINVCNWILSSAIGLP\n",
       "VMFMATTKYRQGSIDCTLTF--SHPTWYWENLLKICVFIFAFIMPVLIITVCYGLMILRL\n",
       "KSVRMLSGSKEKDRNLRRITRMVLVVVAVFIVCWTPIHIYVIIKALVTIPETTFQTVSWH\n",
       "FCIALGYTNSCLNPVLYAFLDENFKRCFREFCIPTSSNIEQQNSTRIRQNTRDHPSTANT\n",
       "VDRTNHQCLPIPSL-SCWALEQGCLVVYPGPL--QGPLVRYDLPAILHSSCLRGNTAPSP\n",
       "SGGAFLLS\n",
       ">P35372-4\n",
       "------------------------------------------------------------\n",
       "---------------------------------MDSSAAPTNASNCTDALAYSSCSPAPS\n",
       "PGSWVNLSHLDGNLSDPCGPNRTDLGGRDSLCPPTGSPSMITAITIMALYSIVCVVGLFG\n",
       "NFLVMYVIVRYTKMKTATNIYIFNLALADALAT----STLPFQSVNYLMGTWPFGTILCK\n",
       "IVISIDYYNMFTSIFTLCTMSVDRYIAVCHPVKALDFRTPRNAKIINVCNWILSSAIGLP\n",
       "VMFMATTKYRQGSIDCTLTF--SHPTWYWENLLKICVFIFAFIMPVLIITVCYGLMILRL\n",
       "KSVRMLSGSKEKDRNLRRITRMVLVVVAVFIVCWTPIHIYVIIKALVTIPETTFQTVSWH\n",
       "FCIALGYTNSCLNPVLYAFLDENFKRCFREFCIPTSSNIEQQNSTRIRQNTRDHPSTANT\n",
       "VDRTNHQGPPAKFV-ADQLAGSS-------------------------------------\n",
       "--------\n",
       ">P35372-5\n",
       "------------------------------------------------------------\n",
       "---------------------------------MDSSAAPTNASNCTDALAYSSCSPAPS\n",
       "PGSWVNLSHLDGNLSDPCGPNRTDLGGRDSLCPPTGSPSMITAITIMALYSIVCVVGLFG\n",
       "NFLVMYVIVRYTKMKTATNIYIFNLALADALAT----STLPFQSVNYLMGTWPFGTILCK\n",
       "IVISIDYYNMFTSIFTLCTMSVDRYIAVCHPVKALDFRTPRNAKIINVCNWILSSAIGLP\n",
       "VMFMATTKYRQGSIDCTLTF--SHPTWYWENLLKICVFIFAFIMPVLIITVCYGLMILRL\n",
       "KSVRMLSGSKEKDRNLRRITRMVLVVVAVFIVCWTPIHIYVIIKALVTIPETTFQTVSWH\n",
       "FCIALGYTNSCLNPVLYAFLDENFKRCFREFCIPTSSNIEQQNSTRIRQNTRDHPSTANT\n",
       "VDRTNHQPPLAVSM-AQI------FTRYPPPT--HREK-----------TCNDYMKR---\n",
       "--------\n",
       ">P35372-6\n",
       "------------------------------------------------------------\n",
       "---------------------------------MDSSAAPTNASNCTDALAYSSCSPAPS\n",
       "PGSWVNLSHLDGNLSDPCGPNRTDLGGRDSLCPPTGSPSMITAITIMALYSIVCVVGLFG\n",
       "NFLVMYVIVRYTKMKTATNIYIFNLALADALAT----STLPFQSVNYLMGTWPFGTILCK\n",
       "IVISIDYYNMFTSIFTLCTMSVDRYIAVCHPVKALDFRTPRNAKIINVCNWILSSAIGLP\n",
       "VMFMATTKYRQGSIDCTLTF--SHPTWYWENLLKICVFIFAFIMPVLIITVCYGLMILRL\n",
       "KSVRMLSGSKEKDRNLRRITRMVLVVVAVFIVCWTPIHIYVIIKALVTIPETTFQTVSWH\n",
       "FCIALGYTNSCLNPVLYAFLDENFKRCFREFCIPTSSNIEQQNSTRIRQNTRDHPSTANT\n",
       "VDRTNHQIRDPISNLPRVSVF---------------------------------------\n",
       "--------\n",
       ">P35372-7\n",
       "------------------------------------------------------------\n",
       "---------------------------------MDSSAAPTNASNCTDALAYSSCSPAPS\n",
       "PGSWVNLSHLDGNLSDPCGPNRTDLGGRDSLCPPTGSPSMITAITIMALYSIVCVVGLFG\n",
       "NFLVMYVIVRYTKMKTATNIYIFNLALADALAT----STLPFQSVNYLMGTWPFGTILCK\n",
       "IVISIDYYNMFTSIFTLCTMSVDRYIAVCHPVKALDFRTPRNAKIINVCNWILSSAIGLP\n",
       "VMFMATTKYRQGSIDCTLTF--SHPTWYWENLLKICVFIFAFIMPVLIITVCYGLMILRL\n",
       "KSVRMLSGSKEKDRNLRRITRMVLVVVAVFIVCWTPIHIYVIIKALVTIPETTFQTVSWH\n",
       "FCIALGYTNSCLNPVLYAFLDENFKRCFREFCIPTSSNIEQQNSTRIRQNTRDHPSTANT\n",
       "VDRTNHQKIDLFQKSSLLNCEH---------T--KG------------------------\n",
       "--------\n",
       ">P35372-8\n",
       "------------------------------------------------------------\n",
       "---------------------------------MDSSAAPTNASNCTDALAYSSCSPAPS\n",
       "PGSWVNLSHLDGNLSDPCGPNRTDLGGRDSLCPPTGSPSMITAITIMALYSIVCVVGLFG\n",
       "NFLVMYVIVRYTKMKTATNIYIFNLALADALAT----STLPFQSVNYLMGTWPFGTILCK\n",
       "IVISIDYYNMFTSIFTLCTMSVDRYIAVCHPVKALDFRTPRNAKIINVCNWILSSAIGLP\n",
       "VMFMATTKYRQGSIDCTLTF--SHPTWYWENLLKICVFIFAFIMPVLIITVCYGLMILRL\n",
       "KSVRMLSGSKEKDRNLRRITRMVLVVVAVFIVCWTPIHIYVIIKALVTIPETTFQTVSWH\n",
       "FCIALGYTNSCLNPVLYAFLDENFKRCFREFCIPTSSNIEQQNSTRIRQNTRDHPSTANT\n",
       "VDRTNHQRERRQK--SDW------------------------------------------\n",
       "--------\n",
       ">P35372-9\n",
       "------------------------------------------------------------\n",
       "---------------------------------MDSSAAPTNASNCTDALAYSSCSPAPS\n",
       "PGSWVNLSHLDGNLSDPCGPNRTDLGGRDSLCPPTGSPSMITAITIMALYSIVCVVGLFG\n",
       "NFLVMYVIVRYTKMKTATNIYIFNLALADALAT----STLPFQSVNYLMGTWPFGTILCK\n",
       "IVISIDYYNMFTSIFTLCTMSVDRYIAVCHPVKALDFRTPRNAKIINVCNWILSSAIGLP\n",
       "VMFMATTKYRQGSIDCTLTF--SHPTWYWENLLKICVFIFAFIMPVLIITVCYGLMILRL\n",
       "KSVRMLSGSKEKDRNLRRITRMVLVVVAVFIVCWTPIHIYVIIKALVTIPETTFQTVSWH\n",
       "FCIALGYTNSCLNPVLYAFLDENFKRCFREFCIPTSSNIEQQNSTRIRQNTRDHPSTANT\n",
       "VDRTNHQVELNLDC--------HCENAKPWPLSYNAGQSPFPFPGRV-------------\n",
       "--------\n",
       ">P35372-10\n",
       "MCLHRRVPSEETYSLDRFAQNPPLFPPPSLPASESRMAHAPLLQRCGAARTGFCKKQQEL\n",
       "WQRRKEAAEALGTRKVSVLLATSHSGARPAVSTMDSSAAPTNASNCTDALAYSSCSPAPS\n",
       "PGSWVNLSHLDGNLSDPCGPNRTDLGGRDSLCPPTGSPSMITAITIMALYSIVCVVGLFG\n",
       "NFLVMYVIVRYTKMKTATNIYIFNLALADALAT----STLPFQSVNYLMGTWPFGTILCK\n",
       "IVISIDYYNMFTSIFTLCTMSVDRYIAVCHPVKALDFRTPRNAKIINVCNWILSSAIGLP\n",
       "VMFMATTKYRQGSIDCTLTF--SHPTWYWENLLKICVFIFAFIMPVLIITVCYGLMILRL\n",
       "KSVRMLSGSKEKDRNLRRITRMVLVVVAVFIVCWTPIHIYVIIKALVTIPETTFQTVSWH\n",
       "FCIALGYTNSCLNPVLYAFLDENFKRCFREFCIPTSSNIEQQNSTRIRQNTRDHPSTANT\n",
       "VDRTNHQLENLEAETAPLP-----------------------------------------\n",
       "--------\n",
       ">P35372-11\n",
       "------------------------------------------------------------\n",
       "---------------------------------MDSSAAPTNASNCTDALAYSSCSPAPS\n",
       "PGSWVNLSHLDGNLSDPCGPNRTDLGGRDSLCPPTGSPSMITAITIMALYSIVCVVGLFG\n",
       "NFLVMYVIVRYTKMKTATNIYIFNLALADALAT----STLPFQSVNYLMGTWPFGTILCK\n",
       "IVISIDYYNMFTSIFTLCTMSVDRYIAVCHPVKALDFRTPRNAKIINVCNWILSSAIGLP\n",
       "VMFMATTKYRQGSIDCTLTF--SHPTWYWENLLKICVFIFAFIMPVLIITVCYGLMILRL\n",
       "KSVRMLSGSKEKDRNLRRITRMVLVVVAVFIVCWTPIHIYVIIKALVTIPETTFQTVSWH\n",
       "FCIALGYTNSCLNPVLYAFLDENFKRCFREFCIPTSSNIEQQNSTRIRQNTRDHPSTANT\n",
       "VDRTNHQS----------------------------------------------------\n",
       "--------\n",
       ">P35372-12\n",
       "------------------------------------------------------------\n",
       "------------------------------------------------------------\n",
       "------------------------------------------------------------\n",
       "-------------MKTATNIYIFNLALADALAT----STLPFQSVNYLMGTWPFGTILCK\n",
       "IVISIDYYNMFTSIFTLCTMSVDRYIAVCHPVKALDFRTPRNAKIINVCNWILSSAIGLP\n",
       "VMFMATTKYRQGSIDCTLTF--SHPTWYWENLLKICVFIFAFIMPVLIITVCYGLMILRL\n",
       "KSVRMLSGSKEKDRNLRRITRMVLVVVAVFIVCWTPIHIYVIIKALVTIPETTFQTVSWH\n",
       "FCIALGYTNSCLNPVLYAFLDENFKRCFREFCIPTSSNIEQQNSTRIRQNTRDHPSTANT\n",
       "VDRTNHQLENLEAETAPLP-----------------------------------------\n",
       "--------\n",
       ">P35372-13\n",
       "------------------------------------------------------------\n",
       "------------------------------------------------------------\n",
       "---------------------------------------------MMRAKSIS-------\n",
       "--TKAGKPSRYTKMKTATNIYIFNLALADALAT----STLPFQSVNYLMGTWPFGTILCK\n",
       "IVISIDYYNMFTSIFTLCTMSVDRYIAVCHPVKALDFRTPRNAKIINVCNWILSSAIGLP\n",
       "VMFMATTKYRQGSIDCTLTF--SHPTWYWENLLKICVFIFAFIMPVLIITVCYGLMILRL\n",
       "KSVRMLSGSKEKDRNLRRITRMVLVVVAVFIVCWTPIHIYVIIKALVTIPETTFQTVSWH\n",
       "FCIALGYTNSCLNPVLYAFLDENFKRCFREFCIPTSSNIEQQNSTRIRQNTRDHPSTANT\n",
       "VDRTNHQLENLEAETAPLP-----------------------------------------\n",
       "--------\n",
       ">P35372-14\n",
       "------------------------------------------------------------\n",
       "------------------------------------------------------------\n",
       "------------------------------------------------------------\n",
       "-------------MKTATNIYIFNLALADALAT----STLPFQSVNYLMGTWPFGTILCK\n",
       "IVISIDYYNMFTSIFTLCTMSVDRYIAVCHPVKALDFRTPRNAKIINVCNWILSSAIGLP\n",
       "VMFMATTKYRQGSIDCTLTF--SHPTWYWENLLKICVFIFAFIMPVLIITVCYGLMILRL\n",
       "KSVRMLSGSKEKDRNLRRITRMVLVVVAVFIVCWTPIHIYVIIKALVTIPETTFQTVSWH\n",
       "FCIALGYTNSCLNPVLYAFLDENFKRCFREFCIPTSSNIEQQNSTRIRQNTRDHPSTANT\n",
       "VDRTNHQNYYIIHRCCCNT-----------PLISQKPVLLWFCD----------------\n",
       "--------\n",
       ">P35372-15\n",
       "------------------------------------------------------------\n",
       "------------------------------------------------------------\n",
       "------------------------------------------------------------\n",
       "-------------MKTATNIYIFNLALADALAT----STLPFQSVNYLMGTWPFGTILCK\n",
       "IVISIDYYNMFTSIFTLCTMSVDRYIAVCHPVKALDFRTPRNAKIINVCNWILSSAIGLP\n",
       "VMFMATTKYRQGSIDCTLTF--SHPTWYWENLLKICVFIFAFIMPVLIITVCYGLMILRL\n",
       "KSVRMLSGSKEKDRNLRRITRMVLVVVAVFIVCWTPIHIYVIIKALVTIPETTFQTVSWH\n",
       "FCIALGYTNSCLNPVLYAFLDENFKRCFREFCIPTSSNIEQQNSTRIRQNTRDHPSTANT\n",
       "VDRTNHQVRSL-------------------------------------------------\n",
       "--------\n",
       ">P35372-16\n",
       "------------------------------------------------------------\n",
       "---------------------------------MDSSAAPTNASNCTDALAYSSCSPAPS\n",
       "PGSWVNLSHLDGNLSDPCGPNRTDLGGRDSLCPPTGSPSMITAITIMALYSIVCVVGLFG\n",
       "NFLVMYVIVRYSWFVIG-----------GPEGRRKQ------------RRL-GEDKR---\n",
       "-------------------------A----------------------------------\n",
       "--------RGCGEKG---------------------------------------------\n",
       "------------------------------------------------------------\n",
       "------------------------------------------------------------\n",
       "------------------------------------------------------------\n",
       "--------\n",
       ">P35372-17\n",
       "------------------------------------------------------------\n",
       "---------------------------------MDSSAAPTNASNCTDALAYSSCSPAPS\n",
       "PGSWVNLSHLDGNLSDPCGPNRTDLGGRDSLCPPTGSPSMITAITIMALYSIVCVVGLFG\n",
       "NFLVMYVIVSSSWF----------------------------------------------\n",
       "------------------------------------------------------------\n",
       "------------------------------------------------------------\n",
       "------------------------------------------------------------\n",
       "------------------------------------------------------------\n",
       "------------------------------------------------------------\n",
       "--------\n",
       ">P35372-18\n",
       "------------------------------------------------------------\n",
       "---------------------------------MDSSAAPTNASNCTDALAYSSCSPAPS\n",
       "PGSWVNLSHLDGNLSDPCGPNRTDLGGRDSLCPPTGSPSMITAITIMALYSIVCVVGLFG\n",
       "NFLVMYVIVRFHRLYTNI--LSSNLVLGKPAEDLCFHLRLHYASAHHYRVLWTDDLA---\n",
       "-------------------------PQECP-----------------HALWLQRKGQESS\n",
       "K----DHQDGAGGGGCVHRLLDSHSHLRHH------------------------------\n",
       "------------------------------------------------------------\n",
       "------------------------------------------------------------\n",
       "------------------------------------------------------------\n",
       "--------\n"
      ]
     },
     "metadata": {},
     "output_type": "display_data"
    }
   ],
   "source": [
    "with open('opioid_align.fasta') as f:\n",
    "    seqdata = f.read()\n",
    "Fasta(seqdata)"
   ]
  },
  {
   "cell_type": "markdown",
   "id": "66cea811",
   "metadata": {},
   "source": [
    "We will next go through the currently published structures (as of 2021_05_31) of the $\\mu$ opioid receptor. The first of these structures is from"
   ]
  },
  {
   "cell_type": "code",
   "execution_count": 5,
   "id": "1133f9a1",
   "metadata": {},
   "outputs": [
    {
     "data": {
      "application/vnd.jupyter.widget-view+json": {
       "model_id": "99509925cfa64f14a94b62ad92f04000",
       "version_major": 2,
       "version_minor": 0
      },
      "text/plain": [
       "NGLWidget()"
      ]
     },
     "metadata": {},
     "output_type": "display_data"
    }
   ],
   "source": [
    "widget1 = nglview.show_biopython(data)\n",
    "p = TrajectoryPlayer(widget1)\n",
    "#widget1.add_ball_and_stick()\n",
    "widget1\n"
   ]
  },
  {
   "cell_type": "code",
   "execution_count": 6,
   "id": "7073e242",
   "metadata": {},
   "outputs": [
    {
     "data": {
      "application/vnd.jupyter.widget-view+json": {
       "model_id": "f47b8c83e96d45ffad1cc0b820428694",
       "version_major": 2,
       "version_minor": 0
      },
      "text/plain": [
       "NGLWidget()"
      ]
     },
     "metadata": {},
     "output_type": "display_data"
    }
   ],
   "source": [
    "widget2 = nglview.show_biopython(data1)\n",
    "p = TrajectoryPlayer(widget2)\n",
    "#widget2.add_ball_and_stick()\n",
    "widget2"
   ]
  },
  {
   "cell_type": "code",
   "execution_count": 7,
   "id": "0030ed0c",
   "metadata": {},
   "outputs": [
    {
     "data": {
      "application/vnd.jupyter.widget-view+json": {
       "model_id": "6b2adacb84974744bb15c1eaf2d07020",
       "version_major": 2,
       "version_minor": 0
      },
      "text/plain": [
       "NGLWidget()"
      ]
     },
     "metadata": {},
     "output_type": "display_data"
    }
   ],
   "source": [
    "widget3 = nglview.show_biopython(data2)\n",
    "p = TrajectoryPlayer(widget3)\n",
    "#widget3.add_ball_and_stick('PRO[224]')\n",
    "#widget3.add_representation(repr_type=\"licorice\", selection='227')\n",
    "widget3"
   ]
  },
  {
   "cell_type": "code",
   "execution_count": 9,
   "id": "d39e77b4",
   "metadata": {},
   "outputs": [
    {
     "data": {
      "application/vnd.jupyter.widget-view+json": {
       "model_id": "b688ec4342104e818e0ce6d3508251ac",
       "version_major": 2,
       "version_minor": 0
      },
      "text/plain": [
       "NGLWidget()"
      ]
     },
     "metadata": {},
     "output_type": "display_data"
    }
   ],
   "source": [
    "widget4 = nglview.show_biopython(data3)\n",
    "p = TrajectoryPlayer(widget4)\n",
    "#widget4.add_ball_and_stick()\n",
    "widget4"
   ]
  },
  {
   "cell_type": "markdown",
   "id": "9cc788fd",
   "metadata": {},
   "source": [
    "We will explore some important important domains within the receptor that are thought to be key for bias. These regions serve as microwitches. The first we will examine the NPxxY motif."
   ]
  },
  {
   "cell_type": "code",
   "execution_count": 10,
   "id": "edda52b4",
   "metadata": {},
   "outputs": [
    {
     "data": {
      "application/vnd.jupyter.widget-view+json": {
       "model_id": "d84a6446ae954df8af1eb9f919de0d19",
       "version_major": 2,
       "version_minor": 0
      },
      "text/plain": [
       "NGLWidget()"
      ]
     },
     "metadata": {},
     "output_type": "display_data"
    }
   ],
   "source": [
    "widget5 = nglview.show_biopython(data2)\n",
    "p = TrajectoryPlayer(widget5)\n",
    "#widget3.add_ball_and_stick('PRO[224]')\n",
    "widget5.add_representation(repr_type=\"licorice\", selection='332')\n",
    "widget5.add_representation(repr_type=\"licorice\", selection='333')\n",
    "widget5.add_representation(repr_type=\"licorice\", selection='336')\n",
    "widget5"
   ]
  },
  {
   "cell_type": "markdown",
   "id": "0cf9817b",
   "metadata": {},
   "source": [
    "The next we will consider is the PIF motif"
   ]
  },
  {
   "cell_type": "code",
   "execution_count": 11,
   "id": "6f7b8275",
   "metadata": {},
   "outputs": [
    {
     "data": {
      "application/vnd.jupyter.widget-view+json": {
       "model_id": "276ccdbcc7324a01962b6c3285bb02cb",
       "version_major": 2,
       "version_minor": 0
      },
      "text/plain": [
       "NGLWidget()"
      ]
     },
     "metadata": {},
     "output_type": "display_data"
    }
   ],
   "source": [
    "widget6 = nglview.show_biopython(data2)\n",
    "p = TrajectoryPlayer(widget6)\n",
    "#widget3.add_ball_and_stick('PRO[224]')\n",
    "widget6.add_representation(repr_type=\"licorice\", selection='244')\n",
    "widget6.add_representation(repr_type=\"licorice\", selection='155')\n",
    "widget6.add_representation(repr_type=\"licorice\", selection='289')\n",
    "widget6.add_representation(repr_type=\"licorice\", selection='293')\n",
    "widget6"
   ]
  },
  {
   "cell_type": "code",
   "execution_count": 10,
   "id": "c2ed7bb2",
   "metadata": {},
   "outputs": [
    {
     "name": "stdout",
     "output_type": "stream",
     "text": [
      "/home/njm3/Molecular_Dynamics/MOR_Work/step5_input.pdb\n"
     ]
    }
   ],
   "source": [
    "pdb = '/home/njm3/Molecular_Dynamics/MOR_Work/step5_input.pdb'\n",
    "trr = '/home/njm3/Molecular_Dynamics/MOR_Work/step7_1.trr'\n",
    "print(pdb)"
   ]
  },
  {
   "cell_type": "code",
   "execution_count": 11,
   "id": "c7fe9845",
   "metadata": {},
   "outputs": [
    {
     "data": {
      "application/vnd.jupyter.widget-view+json": {
       "model_id": "465aa71b15324318b27291669352a0b0",
       "version_major": 2,
       "version_minor": 0
      },
      "text/plain": [
       "NGLWidget()"
      ]
     },
     "metadata": {},
     "output_type": "display_data"
    }
   ],
   "source": [
    "widget = nglview.show_mdtraj(mdtraj.load(pdb))\n",
    "p = TrajectoryPlayer(widget)\n",
    "widget.add_ball_and_stick()\n",
    "p.spin = True\n",
    "def stop_spin():\n",
    "    p.spin = False\n",
    "    widget.close()\n",
    "#Timer(30, stop_spin).start()\n",
    "widget"
   ]
  },
  {
   "cell_type": "code",
   "execution_count": 6,
   "id": "d85883cf",
   "metadata": {},
   "outputs": [
    {
     "name": "stdout",
     "output_type": "stream",
     "text": [
      "w.huang,a.manglik,a.j.venkatakrishnan,t.laeremans, e.n.feinberg,a.l.sanborn,h.e.kato,k.e.livingston, t.s.thorsen,r.c.kling,s.granier,p.gmeiner,s.m.husbandj.r.traynor,w.i.weis,j.steyaert,r.o.dror,b.k.kobilka structural insights into mu-opioid receptor activationature v. 524 315 2015 essn 1476-4687 26245379 10.1038/nature14886 \n"
     ]
    }
   ],
   "source": [
    "print(data.header[\"journal_reference\"])"
   ]
  },
  {
   "cell_type": "markdown",
   "id": "83af2b9f-abf9-40dd-b237-d85cb2f791af",
   "metadata": {
    "jupyter": {
     "source_hidden": true
    },
    "tags": []
   },
   "source": [
    "# 02 - todays date"
   ]
  },
  {
   "cell_type": "code",
   "execution_count": null,
   "id": "9547fa72-d19c-4359-abf4-bc8198e327f0",
   "metadata": {},
   "outputs": [],
   "source": []
  },
  {
   "cell_type": "code",
   "execution_count": null,
   "id": "7af3ef17-2dc2-4065-b920-dffb23ba3386",
   "metadata": {},
   "outputs": [],
   "source": []
  }
 ],
 "metadata": {
  "kernelspec": {
   "display_name": "Python 3.8.5 64-bit ('base': conda)",
   "language": "python",
   "name": "python385jvsc74a57bd0752f92e4d4c588cdfa72e44a86ee9f8db3bacec94ee9e96a5ebe85d37c0bb04d"
  },
  "language_info": {
   "codemirror_mode": {
    "name": "ipython",
    "version": 3
   },
   "file_extension": ".py",
   "mimetype": "text/x-python",
   "name": "python",
   "nbconvert_exporter": "python",
   "pygments_lexer": "ipython3",
   "version": "3.8.5"
  },
  "metadata": {
   "interpreter": {
    "hash": "752f92e4d4c588cdfa72e44a86ee9f8db3bacec94ee9e96a5ebe85d37c0bb04d"
   }
  }
 },
 "nbformat": 4,
 "nbformat_minor": 5
}
